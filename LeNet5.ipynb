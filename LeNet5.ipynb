{
  "nbformat": 4,
  "nbformat_minor": 0,
  "metadata": {
    "colab": {
      "provenance": [],
      "include_colab_link": true
    },
    "kernelspec": {
      "name": "python3",
      "display_name": "Python 3"
    },
    "accelerator": "GPU"
  },
  "cells": [
    {
      "cell_type": "markdown",
      "metadata": {
        "id": "view-in-github",
        "colab_type": "text"
      },
      "source": [
        "<a href=\"https://colab.research.google.com/github/selfor21/NN-Models/blob/main/LeNet5.ipynb\" target=\"_parent\"><img src=\"https://colab.research.google.com/assets/colab-badge.svg\" alt=\"Open In Colab\"/></a>"
      ]
    },
    {
      "metadata": {
        "id": "nbfAnboFaTyb",
        "outputId": "159fd9b6-c6a8-4a41-975c-823228167693",
        "colab": {
          "base_uri": "https://localhost:8080/",
          "height": 34
        }
      },
      "cell_type": "code",
      "source": [
        "import keras\n",
        "import numpy as np\n",
        "from keras.datasets import mnist\n",
        "from keras.models import Sequential\n",
        "from keras.layers import Conv2D, AveragePooling2D\n",
        "from keras.layers import Dense, Flatten\n",
        "from keras.losses import categorical_crossentropy"
      ],
      "execution_count": null,
      "outputs": [
        {
          "output_type": "stream",
          "text": [
            "Using TensorFlow backend.\n"
          ],
          "name": "stderr"
        }
      ]
    },
    {
      "metadata": {
        "id": "2y0VwkX0ac-e"
      },
      "cell_type": "code",
      "source": [
        "(X_train, y_train), (X_test, y_test) = mnist.load_data()"
      ],
      "execution_count": null,
      "outputs": []
    },
    {
      "metadata": {
        "id": "Np0al_jRae03",
        "outputId": "b8bc8987-27a9-4896-d291-cf9a9448f770",
        "colab": {
          "base_uri": "https://localhost:8080/",
          "height": 34
        }
      },
      "cell_type": "code",
      "source": [
        "# transform targets into one-hot-encoded vectors\n",
        "num_classes = len(np.unique(y_train))\n",
        "print(y_train[0], end=' => ')\n",
        "y_train = keras.utils.to_categorical(y_train, 10)\n",
        "y_test = keras.utils.to_categorical(y_test, 10)\n",
        "print(y_train[0])"
      ],
      "execution_count": null,
      "outputs": [
        {
          "output_type": "stream",
          "text": [
            "5 => [0. 0. 0. 0. 0. 1. 0. 0. 0. 0.]\n"
          ],
          "name": "stdout"
        }
      ]
    },
    {
      "metadata": {
        "id": "XndplEL7ag0u",
        "outputId": "b6faa61d-bb85-47f9-8259-dbc398873194",
        "colab": {
          "base_uri": "https://localhost:8080/",
          "height": 34
        }
      },
      "cell_type": "code",
      "source": [
        "# rescale 0-1 and cast training data as float32\n",
        "X_train = X_train.astype(np.float32) / 255\n",
        "X_test = X_test.astype(np.float32) / 255\n",
        "\n",
        "# reshape data to have also the channel dimension\n",
        "img_rows, img_cols = X_train.shape[1:]\n",
        "X_train = X_train.reshape(len(X_train), img_rows, img_cols, 1)\n",
        "X_test = X_test.reshape(len(X_test), img_rows, img_cols, 1)\n",
        "\n",
        "# notice the input shape\n",
        "input_shape = (img_rows, img_cols, 1)\n",
        "print(input_shape)"
      ],
      "execution_count": null,
      "outputs": [
        {
          "output_type": "stream",
          "text": [
            "(28, 28, 1)\n"
          ],
          "name": "stdout"
        }
      ]
    },
    {
      "metadata": {
        "id": "wI6eDTO4a6b1"
      },
      "cell_type": "code",
      "source": [
        "lenet = Sequential()\n",
        "\n",
        "# Convolutional Layer C1\n",
        "lenet.add(Conv2D(6, kernel_size=(5, 5), activation='tanh', \n",
        "                 input_shape=input_shape, padding='same', name='C1'))\n",
        "\n",
        "# Pooling Layer S2\n",
        "lenet.add(AveragePooling2D(pool_size=(2, 2), name='S2'))\n",
        "\n",
        "# Convolutional Layer C3\n",
        "lenet.add(Conv2D(16, kernel_size=(5, 5), activation='tanh', name='C3'))\n",
        "\n",
        "# Pooling Layer S4\n",
        "lenet.add(AveragePooling2D(pool_size=(2, 2), name='S4'))\n",
        "\n",
        "# Fully Connected Convolutional Layer C5\n",
        "lenet.add(Conv2D(120, kernel_size=(5, 5), activation='tanh', name='C5'))\n",
        "\n",
        "# Fully Connected Layer FC6\n",
        "lenet.add(Flatten())\n",
        "lenet.add(Dense(84, activation='tanh', name='FC6'))\n",
        "\n",
        "#Output Layer (softmax activation)\n",
        "lenet.add(Dense(10, activation='softmax', name='OUTPUT'))"
      ],
      "execution_count": null,
      "outputs": []
    },
    {
      "metadata": {
        "id": "abwGHbsJa9iW",
        "outputId": "6fc5b0f2-52c3-4dae-d3e7-93ad15390f31",
        "colab": {
          "base_uri": "https://localhost:8080/",
          "height": 408
        }
      },
      "cell_type": "code",
      "source": [
        "lenet.compile(loss=categorical_crossentropy, optimizer='SGD', metrics=['accuracy'])\n",
        "lenet.summary()"
      ],
      "execution_count": null,
      "outputs": [
        {
          "output_type": "stream",
          "text": [
            "_________________________________________________________________\n",
            "Layer (type)                 Output Shape              Param #   \n",
            "=================================================================\n",
            "C1 (Conv2D)                  (None, 28, 28, 6)         156       \n",
            "_________________________________________________________________\n",
            "S2 (AveragePooling2D)        (None, 14, 14, 6)         0         \n",
            "_________________________________________________________________\n",
            "C3 (Conv2D)                  (None, 10, 10, 16)        2416      \n",
            "_________________________________________________________________\n",
            "S4 (AveragePooling2D)        (None, 5, 5, 16)          0         \n",
            "_________________________________________________________________\n",
            "C5 (Conv2D)                  (None, 1, 1, 120)         48120     \n",
            "_________________________________________________________________\n",
            "flatten_1 (Flatten)          (None, 120)               0         \n",
            "_________________________________________________________________\n",
            "FC6 (Dense)                  (None, 84)                10164     \n",
            "_________________________________________________________________\n",
            "OUTPUT (Dense)               (None, 10)                850       \n",
            "=================================================================\n",
            "Total params: 61,706\n",
            "Trainable params: 61,706\n",
            "Non-trainable params: 0\n",
            "_________________________________________________________________\n"
          ],
          "name": "stdout"
        }
      ]
    },
    {
      "metadata": {
        "id": "-eoP-iCZa-YO",
        "outputId": "5ad2b7c5-3380-492f-88cf-6773b606ba4c",
        "colab": {
          "base_uri": "https://localhost:8080/",
          "height": 1734
        }
      },
      "cell_type": "code",
      "source": [
        "batch_size = 64\n",
        "epochs = 50\n",
        "history = lenet.fit(X_train, y_train,\n",
        "                      batch_size=batch_size,\n",
        "                      epochs=epochs,\n",
        "                      validation_data=(X_test, \n",
        "                                       y_test))"
      ],
      "execution_count": null,
      "outputs": [
        {
          "output_type": "stream",
          "text": [
            "Train on 60000 samples, validate on 10000 samples\n",
            "Epoch 1/50\n",
            "60000/60000 [==============================] - 11s 186us/step - loss: 0.9454 - acc: 0.7596 - val_loss: 0.4202 - val_acc: 0.8872\n",
            "Epoch 2/50\n",
            "60000/60000 [==============================] - 7s 121us/step - loss: 0.3672 - acc: 0.8945 - val_loss: 0.3051 - val_acc: 0.9123\n",
            "Epoch 3/50\n",
            "60000/60000 [==============================] - 7s 120us/step - loss: 0.2893 - acc: 0.9139 - val_loss: 0.2508 - val_acc: 0.9249\n",
            "Epoch 4/50\n",
            "60000/60000 [==============================] - 7s 120us/step - loss: 0.2421 - acc: 0.9291 - val_loss: 0.2102 - val_acc: 0.9366\n",
            "Epoch 5/50\n",
            "60000/60000 [==============================] - 7s 119us/step - loss: 0.2067 - acc: 0.9395 - val_loss: 0.1815 - val_acc: 0.9467\n",
            "Epoch 6/50\n",
            "60000/60000 [==============================] - 7s 120us/step - loss: 0.1792 - acc: 0.9479 - val_loss: 0.1578 - val_acc: 0.9528\n",
            "Epoch 7/50\n",
            "60000/60000 [==============================] - 7s 120us/step - loss: 0.1574 - acc: 0.9540 - val_loss: 0.1388 - val_acc: 0.9596\n",
            "Epoch 8/50\n",
            "60000/60000 [==============================] - 7s 120us/step - loss: 0.1401 - acc: 0.9588 - val_loss: 0.1237 - val_acc: 0.9641\n",
            "Epoch 9/50\n",
            "60000/60000 [==============================] - 7s 120us/step - loss: 0.1260 - acc: 0.9630 - val_loss: 0.1127 - val_acc: 0.9677\n",
            "Epoch 10/50\n",
            "60000/60000 [==============================] - 7s 120us/step - loss: 0.1146 - acc: 0.9667 - val_loss: 0.1047 - val_acc: 0.9695\n",
            "Epoch 11/50\n",
            "60000/60000 [==============================] - 7s 119us/step - loss: 0.1052 - acc: 0.9695 - val_loss: 0.0941 - val_acc: 0.9717\n",
            "Epoch 12/50\n",
            "60000/60000 [==============================] - 7s 120us/step - loss: 0.0973 - acc: 0.9713 - val_loss: 0.0882 - val_acc: 0.9732\n",
            "Epoch 13/50\n",
            "60000/60000 [==============================] - 7s 120us/step - loss: 0.0906 - acc: 0.9736 - val_loss: 0.0840 - val_acc: 0.9731\n",
            "Epoch 14/50\n",
            "60000/60000 [==============================] - 7s 120us/step - loss: 0.0850 - acc: 0.9751 - val_loss: 0.0782 - val_acc: 0.9756\n",
            "Epoch 15/50\n",
            "60000/60000 [==============================] - 7s 121us/step - loss: 0.0800 - acc: 0.9765 - val_loss: 0.0748 - val_acc: 0.9762\n",
            "Epoch 16/50\n",
            "60000/60000 [==============================] - 7s 122us/step - loss: 0.0757 - acc: 0.9777 - val_loss: 0.0699 - val_acc: 0.9781\n",
            "Epoch 17/50\n",
            "60000/60000 [==============================] - 7s 119us/step - loss: 0.0718 - acc: 0.9787 - val_loss: 0.0663 - val_acc: 0.9778\n",
            "Epoch 18/50\n",
            "60000/60000 [==============================] - 7s 120us/step - loss: 0.0686 - acc: 0.9798 - val_loss: 0.0627 - val_acc: 0.9805\n",
            "Epoch 19/50\n",
            "60000/60000 [==============================] - 7s 120us/step - loss: 0.0655 - acc: 0.9805 - val_loss: 0.0619 - val_acc: 0.9804\n",
            "Epoch 20/50\n",
            "60000/60000 [==============================] - 7s 120us/step - loss: 0.0628 - acc: 0.9814 - val_loss: 0.0593 - val_acc: 0.9814\n",
            "Epoch 21/50\n",
            "60000/60000 [==============================] - 7s 120us/step - loss: 0.0603 - acc: 0.9820 - val_loss: 0.0584 - val_acc: 0.9812\n",
            "Epoch 22/50\n",
            "60000/60000 [==============================] - 7s 119us/step - loss: 0.0580 - acc: 0.9830 - val_loss: 0.0545 - val_acc: 0.9825\n",
            "Epoch 23/50\n",
            "60000/60000 [==============================] - 7s 119us/step - loss: 0.0559 - acc: 0.9834 - val_loss: 0.0523 - val_acc: 0.9827\n",
            "Epoch 24/50\n",
            "60000/60000 [==============================] - 7s 119us/step - loss: 0.0539 - acc: 0.9840 - val_loss: 0.0533 - val_acc: 0.9835\n",
            "Epoch 25/50\n",
            "60000/60000 [==============================] - 7s 121us/step - loss: 0.0523 - acc: 0.9848 - val_loss: 0.0514 - val_acc: 0.9841\n",
            "Epoch 26/50\n",
            "60000/60000 [==============================] - 7s 120us/step - loss: 0.0506 - acc: 0.9854 - val_loss: 0.0493 - val_acc: 0.9843\n",
            "Epoch 27/50\n",
            "60000/60000 [==============================] - 7s 120us/step - loss: 0.0488 - acc: 0.9856 - val_loss: 0.0483 - val_acc: 0.9852\n",
            "Epoch 28/50\n",
            "60000/60000 [==============================] - 7s 119us/step - loss: 0.0475 - acc: 0.9860 - val_loss: 0.0478 - val_acc: 0.9847\n",
            "Epoch 29/50\n",
            "60000/60000 [==============================] - 7s 119us/step - loss: 0.0461 - acc: 0.9861 - val_loss: 0.0458 - val_acc: 0.9845\n",
            "Epoch 30/50\n",
            "60000/60000 [==============================] - 7s 119us/step - loss: 0.0449 - acc: 0.9865 - val_loss: 0.0447 - val_acc: 0.9850\n",
            "Epoch 31/50\n",
            "60000/60000 [==============================] - 7s 120us/step - loss: 0.0436 - acc: 0.9870 - val_loss: 0.0429 - val_acc: 0.9859\n",
            "Epoch 32/50\n",
            "60000/60000 [==============================] - 7s 120us/step - loss: 0.0424 - acc: 0.9871 - val_loss: 0.0425 - val_acc: 0.9864\n",
            "Epoch 33/50\n",
            "60000/60000 [==============================] - 7s 120us/step - loss: 0.0413 - acc: 0.9876 - val_loss: 0.0419 - val_acc: 0.9868\n",
            "Epoch 34/50\n",
            "60000/60000 [==============================] - 7s 120us/step - loss: 0.0403 - acc: 0.9878 - val_loss: 0.0404 - val_acc: 0.9869\n",
            "Epoch 35/50\n",
            "60000/60000 [==============================] - 7s 120us/step - loss: 0.0395 - acc: 0.9879 - val_loss: 0.0401 - val_acc: 0.9876\n",
            "Epoch 36/50\n",
            "60000/60000 [==============================] - 7s 120us/step - loss: 0.0384 - acc: 0.9888 - val_loss: 0.0393 - val_acc: 0.9878\n",
            "Epoch 37/50\n",
            "60000/60000 [==============================] - 7s 120us/step - loss: 0.0376 - acc: 0.9888 - val_loss: 0.0404 - val_acc: 0.9868\n",
            "Epoch 38/50\n",
            "60000/60000 [==============================] - 7s 119us/step - loss: 0.0366 - acc: 0.9890 - val_loss: 0.0386 - val_acc: 0.9876\n",
            "Epoch 39/50\n",
            "60000/60000 [==============================] - 7s 120us/step - loss: 0.0357 - acc: 0.9895 - val_loss: 0.0390 - val_acc: 0.9867\n",
            "Epoch 40/50\n",
            "60000/60000 [==============================] - 7s 120us/step - loss: 0.0349 - acc: 0.9895 - val_loss: 0.0372 - val_acc: 0.9880\n",
            "Epoch 41/50\n",
            "60000/60000 [==============================] - 7s 120us/step - loss: 0.0342 - acc: 0.9899 - val_loss: 0.0395 - val_acc: 0.9866\n",
            "Epoch 42/50\n",
            "60000/60000 [==============================] - 7s 120us/step - loss: 0.0334 - acc: 0.9900 - val_loss: 0.0371 - val_acc: 0.9878\n",
            "Epoch 43/50\n",
            "60000/60000 [==============================] - 7s 120us/step - loss: 0.0330 - acc: 0.9901 - val_loss: 0.0364 - val_acc: 0.9880\n",
            "Epoch 44/50\n",
            "60000/60000 [==============================] - 7s 121us/step - loss: 0.0321 - acc: 0.9908 - val_loss: 0.0357 - val_acc: 0.9879\n",
            "Epoch 45/50\n",
            "60000/60000 [==============================] - 7s 121us/step - loss: 0.0316 - acc: 0.9908 - val_loss: 0.0349 - val_acc: 0.9883\n",
            "Epoch 46/50\n",
            "60000/60000 [==============================] - 7s 120us/step - loss: 0.0310 - acc: 0.9908 - val_loss: 0.0349 - val_acc: 0.9874\n",
            "Epoch 47/50\n",
            "60000/60000 [==============================] - 7s 120us/step - loss: 0.0301 - acc: 0.9913 - val_loss: 0.0350 - val_acc: 0.9886\n",
            "Epoch 48/50\n",
            "60000/60000 [==============================] - 7s 120us/step - loss: 0.0298 - acc: 0.9912 - val_loss: 0.0341 - val_acc: 0.9881\n",
            "Epoch 49/50\n",
            "60000/60000 [==============================] - 7s 120us/step - loss: 0.0291 - acc: 0.9917 - val_loss: 0.0364 - val_acc: 0.9874\n",
            "Epoch 50/50\n",
            "60000/60000 [==============================] - 7s 120us/step - loss: 0.0285 - acc: 0.9921 - val_loss: 0.0340 - val_acc: 0.9879\n"
          ],
          "name": "stdout"
        }
      ]
    },
    {
      "metadata": {
        "id": "_-QGo5bXa-jR"
      },
      "cell_type": "code",
      "source": [],
      "execution_count": null,
      "outputs": []
    }
  ]
}