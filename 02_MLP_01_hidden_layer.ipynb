{
  "cells": [
    {
      "cell_type": "markdown",
      "metadata": {
        "id": "view-in-github",
        "colab_type": "text"
      },
      "source": [
        "<a href=\"https://colab.research.google.com/github/selfor21/NN-Models/blob/main/02_MLP_01_hidden_layer.ipynb\" target=\"_parent\"><img src=\"https://colab.research.google.com/assets/colab-badge.svg\" alt=\"Open In Colab\"/></a>"
      ]
    },
    {
      "cell_type": "markdown",
      "metadata": {
        "id": "ikxZW8AllWK6"
      },
      "source": [
        "# NEURAL NETWORK \n",
        "\n",
        "## MLP with 01 hidden row\n",
        "\n",
        "### Number of Neurons = 100, 80 and 50\n",
        "\n",
        "\n"
      ]
    },
    {
      "cell_type": "markdown",
      "metadata": {
        "id": "RLcCjipXla_K"
      },
      "source": [
        "# 1\\. Libraries"
      ]
    },
    {
      "cell_type": "code",
      "execution_count": null,
      "metadata": {
        "colab": {
          "base_uri": "https://localhost:8080/"
        },
        "id": "Zo2guFZtmNCI",
        "outputId": "326bd3af-5885-41ae-b3e2-900750fcdc3a"
      },
      "outputs": [
        {
          "output_type": "stream",
          "name": "stdout",
          "text": [
            "2.12.0\n"
          ]
        }
      ],
      "source": [
        "import tensorflow as tf\n",
        "from tensorflow import keras\n",
        "from tensorflow.keras import layers\n",
        "from tensorflow.keras import Model\n",
        "import keras.datasets as kds\n",
        "import pandas as pd\n",
        "\n",
        "import numpy as np\n",
        "import matplotlib.pyplot as plt\n",
        "from matplotlib.image import imread\n",
        "\n",
        "print(tf.__version__)"
      ]
    },
    {
      "cell_type": "code",
      "source": [
        "import pandas as pd"
      ],
      "metadata": {
        "id": "4IGL_iobJhQ9"
      },
      "execution_count": null,
      "outputs": []
    },
    {
      "cell_type": "code",
      "source": [
        "test_loss_l = []\n",
        "test_acc_l = []\n",
        "number_neurons_l = []\n",
        "history_l = []"
      ],
      "metadata": {
        "id": "4TtOcq2dK-7v"
      },
      "execution_count": null,
      "outputs": []
    },
    {
      "cell_type": "markdown",
      "metadata": {
        "id": "crg4eS_UrgV_"
      },
      "source": [
        "# 2\\. MNIST Dataset"
      ]
    },
    {
      "cell_type": "markdown",
      "metadata": {
        "id": "QgKHcl8Cp5jT"
      },
      "source": [
        "### Public dataset with 70000 examples (60K Train / 10K Test)\n",
        "\n",
        "<img src=\"https://upload.wikimedia.org/wikipedia/commons/2/27/MnistExamples.png\">\n",
        "\n",
        "Ver: http://yann.lecun.com/exdb/mnist/"
      ]
    },
    {
      "cell_type": "markdown",
      "metadata": {
        "id": "gN2ItdNyri97"
      },
      "source": [
        "### Data load and preparation"
      ]
    },
    {
      "cell_type": "code",
      "execution_count": null,
      "metadata": {
        "id": "DpXok59srmb6",
        "colab": {
          "base_uri": "https://localhost:8080/"
        },
        "outputId": "d74a9e19-724e-4092-dcfa-6f5c2dee35f6"
      },
      "outputs": [
        {
          "output_type": "stream",
          "name": "stdout",
          "text": [
            "Downloading data from https://storage.googleapis.com/tensorflow/tf-keras-datasets/mnist.npz\n",
            "11490434/11490434 [==============================] - 1s 0us/step\n"
          ]
        }
      ],
      "source": [
        "input_shape = (28, 28, 1)\n",
        "\n",
        "# Keras.datasets\n",
        "(x_train, y_train), (x_test, y_test) = kds.mnist.load_data()\n",
        "\n",
        "# Features Normalization\n",
        "x_train = x_train.astype(\"float32\") / 255\n",
        "x_test = x_test.astype(\"float32\") / 255\n",
        "\n",
        "# One-hot-encoding class convertion\n",
        "num_classes = len(np.unique(y_train))\n",
        "\n",
        "y_train = keras.utils.to_categorical(y_train, num_classes)\n",
        "y_test = keras.utils.to_categorical(y_test, num_classes)\n"
      ]
    },
    {
      "cell_type": "code",
      "execution_count": null,
      "metadata": {
        "colab": {
          "base_uri": "https://localhost:8080/",
          "height": 170
        },
        "id": "zHsCsLoJtGt6",
        "outputId": "114e8e5f-eca4-4b42-9d6d-61f5f797c93b"
      },
      "outputs": [
        {
          "output_type": "display_data",
          "data": {
            "text/plain": [
              "<Figure size 1000x800 with 5 Axes>"
            ],
            "image/png": "[encoded data removed]"
          },
          "metadata": {}
        }
      ],
      "source": [
        "plt.figure(figsize=(10, 8))\n",
        "for i in range(5):\n",
        "    ax = plt.subplot(1, 5, i + 1)\n",
        "    plt.imshow(x_test[i].reshape(28, 28))\n",
        "    plt.gray()\n",
        "    ax.get_xaxis().set_visible(False)\n",
        "    ax.get_yaxis().set_visible(False)\n",
        "plt.show()"
      ]
    },
    {
      "cell_type": "markdown",
      "source": [
        "# 3\\. Models"
      ],
      "metadata": {
        "id": "2z-ZDWaTFP25"
      }
    },
    {
      "cell_type": "markdown",
      "metadata": {
        "id": "2qTL8ZOOJt3n"
      },
      "source": [
        "## 3.1 Hidden row with 100 neurons"
      ]
    },
    {
      "cell_type": "code",
      "execution_count": null,
      "metadata": {
        "colab": {
          "base_uri": "https://localhost:8080/"
        },
        "id": "E-UJOniUJt3o",
        "outputId": "0166f541-91c9-4a8b-d967-33174c247faf"
      },
      "outputs": [
        {
          "output_type": "stream",
          "name": "stdout",
          "text": [
            "Model: \"sequential\"\n",
            "_________________________________________________________________\n",
            " Layer (type)                Output Shape              Param #   \n",
            "=================================================================\n",
            " flatten (Flatten)           (None, 784)               0         \n",
            "                                                                 \n",
            " dense (Dense)               (None, 100)               78500     \n",
            "                                                                 \n",
            " dense_1 (Dense)             (None, 10)                1010      \n",
            "                                                                 \n",
            "=================================================================\n",
            "Total params: 79,510\n",
            "Trainable params: 79,510\n",
            "Non-trainable params: 0\n",
            "_________________________________________________________________\n"
          ]
        }
      ],
      "source": [
        "modelo2 = keras.Sequential()\n",
        "modelo2.add(keras.layers.Flatten(input_shape=input_shape))\n",
        "modelo2.add(keras.layers.Dense(units=100, activation=\"relu\"))\n",
        "modelo2.add(keras.layers.Dense(units=10, activation=\"softmax\"))\n",
        "\n",
        "modelo2.summary()"
      ]
    },
    {
      "cell_type": "code",
      "source": [
        "#Grafo da rede gerada\n",
        "tf.keras.utils.plot_model(modelo2, show_shapes=True)"
      ],
      "metadata": {
        "id": "5DIjM0tz9P4t",
        "outputId": "a11ec0d9-b90e-4790-b415-7acd831d7cba",
        "colab": {
          "base_uri": "https://localhost:8080/",
          "height": 422
        }
      },
      "execution_count": null,
      "outputs": [
        {
          "output_type": "execute_result",
          "data": {
            "image/png": "[encoded data removed]",
            "text/plain": [
              "<IPython.core.display.Image object>"
            ]
          },
          "metadata": {},
          "execution_count": 7
        }
      ]
    },
    {
      "cell_type": "code",
      "execution_count": null,
      "metadata": {
        "colab": {
          "base_uri": "https://localhost:8080/"
        },
        "id": "AL9ZAOsiJt3o",
        "outputId": "62c90750-c155-48c3-a770-711a6971eedd"
      },
      "outputs": [
        {
          "output_type": "stream",
          "name": "stdout",
          "text": [
            "Epoch 1/30\n",
            "188/188 - 8s - loss: 0.5211 - accuracy: 0.8603 - val_loss: 0.2602 - val_accuracy: 0.9292 - 8s/epoch - 40ms/step\n",
            "Epoch 2/30\n",
            "188/188 - 1s - loss: 0.2402 - accuracy: 0.9320 - val_loss: 0.2034 - val_accuracy: 0.9442 - 613ms/epoch - 3ms/step\n",
            "Epoch 3/30\n",
            "188/188 - 1s - loss: 0.1858 - accuracy: 0.9471 - val_loss: 0.1680 - val_accuracy: 0.9529 - 614ms/epoch - 3ms/step\n",
            "Epoch 4/30\n",
            "188/188 - 1s - loss: 0.1521 - accuracy: 0.9566 - val_loss: 0.1467 - val_accuracy: 0.9586 - 659ms/epoch - 4ms/step\n",
            "Epoch 5/30\n",
            "188/188 - 1s - loss: 0.1274 - accuracy: 0.9641 - val_loss: 0.1299 - val_accuracy: 0.9626 - 585ms/epoch - 3ms/step\n",
            "Epoch 6/30\n",
            "188/188 - 1s - loss: 0.1102 - accuracy: 0.9686 - val_loss: 0.1213 - val_accuracy: 0.9655 - 633ms/epoch - 3ms/step\n",
            "Epoch 7/30\n",
            "188/188 - 1s - loss: 0.0965 - accuracy: 0.9726 - val_loss: 0.1130 - val_accuracy: 0.9666 - 591ms/epoch - 3ms/step\n",
            "Epoch 8/30\n",
            "188/188 - 1s - loss: 0.0856 - accuracy: 0.9751 - val_loss: 0.1062 - val_accuracy: 0.9684 - 847ms/epoch - 5ms/step\n",
            "Epoch 9/30\n",
            "188/188 - 1s - loss: 0.0749 - accuracy: 0.9791 - val_loss: 0.1010 - val_accuracy: 0.9709 - 840ms/epoch - 4ms/step\n",
            "Epoch 10/30\n",
            "188/188 - 1s - loss: 0.0674 - accuracy: 0.9808 - val_loss: 0.0993 - val_accuracy: 0.9706 - 822ms/epoch - 4ms/step\n",
            "Epoch 11/30\n",
            "188/188 - 1s - loss: 0.0603 - accuracy: 0.9834 - val_loss: 0.0926 - val_accuracy: 0.9731 - 643ms/epoch - 3ms/step\n",
            "Epoch 12/30\n",
            "188/188 - 1s - loss: 0.0547 - accuracy: 0.9848 - val_loss: 0.0924 - val_accuracy: 0.9735 - 593ms/epoch - 3ms/step\n",
            "Epoch 13/30\n",
            "188/188 - 1s - loss: 0.0489 - accuracy: 0.9870 - val_loss: 0.0900 - val_accuracy: 0.9732 - 631ms/epoch - 3ms/step\n",
            "Epoch 14/30\n",
            "188/188 - 1s - loss: 0.0440 - accuracy: 0.9881 - val_loss: 0.0910 - val_accuracy: 0.9734 - 575ms/epoch - 3ms/step\n",
            "Epoch 15/30\n",
            "188/188 - 1s - loss: 0.0401 - accuracy: 0.9894 - val_loss: 0.0888 - val_accuracy: 0.9737 - 578ms/epoch - 3ms/step\n",
            "Epoch 16/30\n",
            "188/188 - 1s - loss: 0.0355 - accuracy: 0.9909 - val_loss: 0.0866 - val_accuracy: 0.9741 - 577ms/epoch - 3ms/step\n",
            "Epoch 17/30\n",
            "188/188 - 1s - loss: 0.0326 - accuracy: 0.9918 - val_loss: 0.0870 - val_accuracy: 0.9736 - 635ms/epoch - 3ms/step\n",
            "Epoch 18/30\n",
            "188/188 - 1s - loss: 0.0297 - accuracy: 0.9926 - val_loss: 0.0854 - val_accuracy: 0.9753 - 647ms/epoch - 3ms/step\n",
            "Epoch 19/30\n",
            "188/188 - 1s - loss: 0.0266 - accuracy: 0.9939 - val_loss: 0.0855 - val_accuracy: 0.9762 - 573ms/epoch - 3ms/step\n",
            "Epoch 20/30\n",
            "188/188 - 1s - loss: 0.0235 - accuracy: 0.9951 - val_loss: 0.0850 - val_accuracy: 0.9758 - 656ms/epoch - 3ms/step\n",
            "Epoch 21/30\n",
            "188/188 - 1s - loss: 0.0212 - accuracy: 0.9958 - val_loss: 0.0882 - val_accuracy: 0.9745 - 578ms/epoch - 3ms/step\n",
            "Epoch 22/30\n",
            "188/188 - 1s - loss: 0.0188 - accuracy: 0.9963 - val_loss: 0.0891 - val_accuracy: 0.9751 - 594ms/epoch - 3ms/step\n",
            "Epoch 23/30\n",
            "188/188 - 1s - loss: 0.0179 - accuracy: 0.9965 - val_loss: 0.0873 - val_accuracy: 0.9753 - 639ms/epoch - 3ms/step\n",
            "Epoch 24/30\n",
            "188/188 - 1s - loss: 0.0161 - accuracy: 0.9969 - val_loss: 0.0879 - val_accuracy: 0.9761 - 605ms/epoch - 3ms/step\n",
            "Epoch 25/30\n",
            "188/188 - 1s - loss: 0.0142 - accuracy: 0.9977 - val_loss: 0.0889 - val_accuracy: 0.9759 - 585ms/epoch - 3ms/step\n",
            "Epoch 26/30\n",
            "188/188 - 1s - loss: 0.0131 - accuracy: 0.9979 - val_loss: 0.0941 - val_accuracy: 0.9746 - 587ms/epoch - 3ms/step\n",
            "Epoch 27/30\n",
            "188/188 - 1s - loss: 0.0113 - accuracy: 0.9986 - val_loss: 0.0881 - val_accuracy: 0.9761 - 835ms/epoch - 4ms/step\n",
            "Epoch 28/30\n",
            "188/188 - 1s - loss: 0.0105 - accuracy: 0.9987 - val_loss: 0.0895 - val_accuracy: 0.9757 - 818ms/epoch - 4ms/step\n",
            "Epoch 29/30\n",
            "188/188 - 1s - loss: 0.0095 - accuracy: 0.9989 - val_loss: 0.0933 - val_accuracy: 0.9753 - 799ms/epoch - 4ms/step\n",
            "Epoch 30/30\n",
            "188/188 - 1s - loss: 0.0086 - accuracy: 0.9991 - val_loss: 0.0914 - val_accuracy: 0.9765 - 633ms/epoch - 3ms/step\n"
          ]
        }
      ],
      "source": [
        "modelo2.compile(loss=\"categorical_crossentropy\", optimizer=\"adam\", metrics=[\"accuracy\"])\n",
        "\n",
        "history2 = modelo2.fit(x_train, y_train, batch_size=256, epochs=30, validation_split=0.2, verbose=2)"
      ]
    },
    {
      "cell_type": "code",
      "execution_count": null,
      "metadata": {
        "colab": {
          "base_uri": "https://localhost:8080/",
          "height": 451
        },
        "id": "22tAsp4HJt3o",
        "outputId": "d9fb758d-55ba-42fa-ca35-0f5936e96553"
      },
      "outputs": [
        {
          "output_type": "display_data",
          "data": {
            "text/plain": [
              "<Figure size 640x480 with 1 Axes>"
            ],
            "image/png": "[encoded data removed]"
          },
          "metadata": {}
        }
      ],
      "source": [
        "plt.xlabel(\"Épocas'\")\n",
        "plt.ylabel(\"Loss\")\n",
        "plt.plot(history2.history['loss'], label=\"Treino\")\n",
        "plt.plot(history2.history['val_loss'], label=\"Val\")\n",
        "plt.legend()\n",
        "plt.show()\n"
      ]
    },
    {
      "cell_type": "code",
      "execution_count": null,
      "metadata": {
        "colab": {
          "base_uri": "https://localhost:8080/"
        },
        "id": "70HxkMNxJt3o",
        "outputId": "fb71209a-b930-4a15-dbf9-75aa98ffc238"
      },
      "outputs": [
        {
          "output_type": "stream",
          "name": "stdout",
          "text": [
            "Avaliação do modelo (Teste)\n",
            "313/313 [==============================] - 1s 2ms/step - loss: 0.0813 - accuracy: 0.9778\n",
            "Test loss, Test acc: [0.081251360476017, 0.9778000116348267]\n"
          ]
        }
      ],
      "source": [
        "# Avaliação do modelo treinado no conjunto de tete\n",
        "print(\"Avaliação do modelo (Teste)\")\n",
        "results2 = modelo2.evaluate(x_test, y_test)\n",
        "print(\"Test loss, Test acc:\", results2)\n"
      ]
    },
    {
      "cell_type": "code",
      "source": [
        "number_neurons_l.append('100relu + 10softmax')\n",
        "test_loss_l.append(results2[0])\n",
        "test_acc_l.append(results2[1])"
      ],
      "metadata": {
        "id": "oXXumvcILIwP"
      },
      "execution_count": null,
      "outputs": []
    },
    {
      "cell_type": "markdown",
      "source": [
        "## 3.2  Hidden row with 80 neurons"
      ],
      "metadata": {
        "id": "p0R-bOv0LnsN"
      }
    },
    {
      "cell_type": "code",
      "source": [
        "modelo3 = keras.Sequential()\n",
        "modelo3.add(keras.layers.Flatten(input_shape=input_shape))\n",
        "modelo3.add(keras.layers.Dense(units=80, activation=\"relu\"))\n",
        "modelo3.add(keras.layers.Dense(units=10, activation=\"softmax\"))\n",
        "\n",
        "modelo3.summary()"
      ],
      "metadata": {
        "colab": {
          "base_uri": "https://localhost:8080/"
        },
        "id": "6mWMz7n-LoQK",
        "outputId": "f2bd9f8f-4890-47b1-998c-8404ff861dc1"
      },
      "execution_count": null,
      "outputs": [
        {
          "output_type": "stream",
          "name": "stdout",
          "text": [
            "Model: \"sequential_1\"\n",
            "_________________________________________________________________\n",
            " Layer (type)                Output Shape              Param #   \n",
            "=================================================================\n",
            " flatten_1 (Flatten)         (None, 784)               0         \n",
            "                                                                 \n",
            " dense_2 (Dense)             (None, 80)                62800     \n",
            "                                                                 \n",
            " dense_3 (Dense)             (None, 10)                810       \n",
            "                                                                 \n",
            "=================================================================\n",
            "Total params: 63,610\n",
            "Trainable params: 63,610\n",
            "Non-trainable params: 0\n",
            "_________________________________________________________________\n"
          ]
        }
      ]
    },
    {
      "cell_type": "code",
      "source": [
        "modelo3.compile(loss=\"categorical_crossentropy\", optimizer=\"adam\", metrics=[\"accuracy\"])\n",
        "\n",
        "history3 = modelo3.fit(x_train, y_train, batch_size=256, epochs=30, validation_split=0.2, verbose=2)"
      ],
      "metadata": {
        "colab": {
          "base_uri": "https://localhost:8080/"
        },
        "id": "PndbyX5zLoTZ",
        "outputId": "2873c7be-347f-4083-9d4e-c2a56ec66c50"
      },
      "execution_count": null,
      "outputs": [
        {
          "output_type": "stream",
          "name": "stdout",
          "text": [
            "Epoch 1/30\n",
            "188/188 - 2s - loss: 0.5771 - accuracy: 0.8400 - val_loss: 0.2831 - val_accuracy: 0.9219 - 2s/epoch - 9ms/step\n",
            "Epoch 2/30\n",
            "188/188 - 1s - loss: 0.2598 - accuracy: 0.9274 - val_loss: 0.2204 - val_accuracy: 0.9392 - 581ms/epoch - 3ms/step\n",
            "Epoch 3/30\n",
            "188/188 - 1s - loss: 0.2062 - accuracy: 0.9411 - val_loss: 0.1836 - val_accuracy: 0.9485 - 624ms/epoch - 3ms/step\n",
            "Epoch 4/30\n",
            "188/188 - 1s - loss: 0.1721 - accuracy: 0.9514 - val_loss: 0.1680 - val_accuracy: 0.9521 - 568ms/epoch - 3ms/step\n",
            "Epoch 5/30\n",
            "188/188 - 1s - loss: 0.1472 - accuracy: 0.9577 - val_loss: 0.1493 - val_accuracy: 0.9578 - 588ms/epoch - 3ms/step\n",
            "Epoch 6/30\n",
            "188/188 - 1s - loss: 0.1279 - accuracy: 0.9635 - val_loss: 0.1346 - val_accuracy: 0.9599 - 594ms/epoch - 3ms/step\n",
            "Epoch 7/30\n",
            "188/188 - 1s - loss: 0.1131 - accuracy: 0.9679 - val_loss: 0.1282 - val_accuracy: 0.9613 - 578ms/epoch - 3ms/step\n",
            "Epoch 8/30\n",
            "188/188 - 1s - loss: 0.1010 - accuracy: 0.9708 - val_loss: 0.1192 - val_accuracy: 0.9642 - 670ms/epoch - 4ms/step\n",
            "Epoch 9/30\n",
            "188/188 - 1s - loss: 0.0912 - accuracy: 0.9738 - val_loss: 0.1179 - val_accuracy: 0.9654 - 580ms/epoch - 3ms/step\n",
            "Epoch 10/30\n",
            "188/188 - 1s - loss: 0.0822 - accuracy: 0.9768 - val_loss: 0.1145 - val_accuracy: 0.9659 - 582ms/epoch - 3ms/step\n",
            "Epoch 11/30\n",
            "188/188 - 1s - loss: 0.0741 - accuracy: 0.9799 - val_loss: 0.1089 - val_accuracy: 0.9678 - 625ms/epoch - 3ms/step\n",
            "Epoch 12/30\n",
            "188/188 - 1s - loss: 0.0666 - accuracy: 0.9821 - val_loss: 0.1089 - val_accuracy: 0.9679 - 678ms/epoch - 4ms/step\n",
            "Epoch 13/30\n",
            "188/188 - 1s - loss: 0.0613 - accuracy: 0.9829 - val_loss: 0.1042 - val_accuracy: 0.9688 - 979ms/epoch - 5ms/step\n",
            "Epoch 14/30\n",
            "188/188 - 1s - loss: 0.0560 - accuracy: 0.9851 - val_loss: 0.1012 - val_accuracy: 0.9693 - 850ms/epoch - 5ms/step\n",
            "Epoch 15/30\n",
            "188/188 - 1s - loss: 0.0514 - accuracy: 0.9862 - val_loss: 0.1002 - val_accuracy: 0.9701 - 577ms/epoch - 3ms/step\n",
            "Epoch 16/30\n",
            "188/188 - 1s - loss: 0.0466 - accuracy: 0.9877 - val_loss: 0.0995 - val_accuracy: 0.9702 - 597ms/epoch - 3ms/step\n",
            "Epoch 17/30\n",
            "188/188 - 1s - loss: 0.0421 - accuracy: 0.9894 - val_loss: 0.0990 - val_accuracy: 0.9696 - 647ms/epoch - 3ms/step\n",
            "Epoch 18/30\n",
            "188/188 - 1s - loss: 0.0395 - accuracy: 0.9901 - val_loss: 0.1026 - val_accuracy: 0.9685 - 595ms/epoch - 3ms/step\n",
            "Epoch 19/30\n",
            "188/188 - 1s - loss: 0.0362 - accuracy: 0.9915 - val_loss: 0.0969 - val_accuracy: 0.9714 - 578ms/epoch - 3ms/step\n",
            "Epoch 20/30\n",
            "188/188 - 1s - loss: 0.0335 - accuracy: 0.9917 - val_loss: 0.0975 - val_accuracy: 0.9709 - 588ms/epoch - 3ms/step\n",
            "Epoch 21/30\n",
            "188/188 - 1s - loss: 0.0299 - accuracy: 0.9933 - val_loss: 0.1021 - val_accuracy: 0.9709 - 623ms/epoch - 3ms/step\n",
            "Epoch 22/30\n",
            "188/188 - 1s - loss: 0.0282 - accuracy: 0.9934 - val_loss: 0.0962 - val_accuracy: 0.9726 - 580ms/epoch - 3ms/step\n",
            "Epoch 23/30\n",
            "188/188 - 1s - loss: 0.0260 - accuracy: 0.9944 - val_loss: 0.0984 - val_accuracy: 0.9712 - 576ms/epoch - 3ms/step\n",
            "Epoch 24/30\n",
            "188/188 - 1s - loss: 0.0237 - accuracy: 0.9950 - val_loss: 0.0979 - val_accuracy: 0.9719 - 588ms/epoch - 3ms/step\n",
            "Epoch 25/30\n",
            "188/188 - 1s - loss: 0.0215 - accuracy: 0.9958 - val_loss: 0.1006 - val_accuracy: 0.9727 - 626ms/epoch - 3ms/step\n",
            "Epoch 26/30\n",
            "188/188 - 1s - loss: 0.0199 - accuracy: 0.9962 - val_loss: 0.0967 - val_accuracy: 0.9735 - 629ms/epoch - 3ms/step\n",
            "Epoch 27/30\n",
            "188/188 - 1s - loss: 0.0183 - accuracy: 0.9967 - val_loss: 0.0975 - val_accuracy: 0.9728 - 628ms/epoch - 3ms/step\n",
            "Epoch 28/30\n",
            "188/188 - 1s - loss: 0.0167 - accuracy: 0.9973 - val_loss: 0.0988 - val_accuracy: 0.9735 - 577ms/epoch - 3ms/step\n",
            "Epoch 29/30\n",
            "188/188 - 1s - loss: 0.0153 - accuracy: 0.9976 - val_loss: 0.1006 - val_accuracy: 0.9734 - 590ms/epoch - 3ms/step\n",
            "Epoch 30/30\n",
            "188/188 - 1s - loss: 0.0139 - accuracy: 0.9981 - val_loss: 0.0992 - val_accuracy: 0.9732 - 669ms/epoch - 4ms/step\n"
          ]
        }
      ]
    },
    {
      "cell_type": "code",
      "source": [
        "plt.xlabel(\"Épocas'\")\n",
        "plt.ylabel(\"Loss\")\n",
        "plt.plot(history3.history['loss'], label=\"Treino\")\n",
        "plt.plot(history3.history['val_loss'], label=\"Val\")\n",
        "plt.legend()\n",
        "plt.show()\n"
      ],
      "metadata": {
        "colab": {
          "base_uri": "https://localhost:8080/",
          "height": 454
        },
        "id": "EKKWIn2XLoWq",
        "outputId": "43f7c1db-3c3a-4004-d1b8-392d0e236998"
      },
      "execution_count": null,
      "outputs": [
        {
          "output_type": "display_data",
          "data": {
            "text/plain": [
              "<Figure size 640x480 with 1 Axes>"
            ],
            "image/png": "[encoded data removed]"
          },
          "metadata": {}
        }
      ]
    },
    {
      "cell_type": "code",
      "source": [
        "#Avaliação do modelo treinado no conjunto de teste\n",
        "print(\"Avaliação do modelo (Teste)\")\n",
        "results3 = modelo3.evaluate(x_test, y_test)\n",
        "print(\"Test loss, Test acc:\", results3)\n"
      ],
      "metadata": {
        "colab": {
          "base_uri": "https://localhost:8080/"
        },
        "id": "s54aba7FLoZ5",
        "outputId": "4cd6f556-b25c-44c1-85f1-91e749daed4b"
      },
      "execution_count": null,
      "outputs": [
        {
          "output_type": "stream",
          "name": "stdout",
          "text": [
            "Avaliação do modelo (Teste)\n",
            "313/313 [==============================] - 1s 3ms/step - loss: 0.0878 - accuracy: 0.9750\n",
            "Test loss, Test acc: [0.08778582513332367, 0.9750000238418579]\n"
          ]
        }
      ]
    },
    {
      "cell_type": "code",
      "source": [
        "number_neurons_l.append('80relu + 10softmax')\n",
        "test_loss_l.append(results3[0])\n",
        "test_acc_l.append(results3[1])"
      ],
      "metadata": {
        "id": "tjP-OWrWQ1wa"
      },
      "execution_count": null,
      "outputs": []
    },
    {
      "cell_type": "markdown",
      "source": [
        "## 3.3 Hidden row with 50 neurons"
      ],
      "metadata": {
        "id": "KKh0q2AuF3zX"
      }
    },
    {
      "cell_type": "code",
      "source": [
        "modelo4 = keras.Sequential()\n",
        "modelo4.add(keras.layers.Flatten(input_shape=input_shape))\n",
        "modelo4.add(keras.layers.Dense(units=50, activation=\"relu\"))\n",
        "modelo4.add(keras.layers.Dense(units=10, activation=\"softmax\"))\n",
        "\n",
        "modelo4.summary()"
      ],
      "metadata": {
        "colab": {
          "base_uri": "https://localhost:8080/"
        },
        "id": "ErMb3mFhQ7oz",
        "outputId": "197e5812-a524-4680-c8e1-2537ef452857"
      },
      "execution_count": null,
      "outputs": [
        {
          "output_type": "stream",
          "name": "stdout",
          "text": [
            "Model: \"sequential_2\"\n",
            "_________________________________________________________________\n",
            " Layer (type)                Output Shape              Param #   \n",
            "=================================================================\n",
            " flatten_2 (Flatten)         (None, 784)               0         \n",
            "                                                                 \n",
            " dense_4 (Dense)             (None, 50)                39250     \n",
            "                                                                 \n",
            " dense_5 (Dense)             (None, 10)                510       \n",
            "                                                                 \n",
            "=================================================================\n",
            "Total params: 39,760\n",
            "Trainable params: 39,760\n",
            "Non-trainable params: 0\n",
            "_________________________________________________________________\n"
          ]
        }
      ]
    },
    {
      "cell_type": "code",
      "source": [
        "modelo4.compile(loss=\"categorical_crossentropy\", optimizer=\"adam\", metrics=[\"accuracy\"])\n",
        "\n",
        "history4 = modelo4.fit(x_train, y_train, batch_size=256, epochs=30, validation_split=0.2, verbose=2)"
      ],
      "metadata": {
        "colab": {
          "base_uri": "https://localhost:8080/"
        },
        "id": "Gz0rHOR0Q9NV",
        "outputId": "93fb26e4-d219-4b23-f65c-222aafb95ede"
      },
      "execution_count": null,
      "outputs": [
        {
          "output_type": "stream",
          "name": "stdout",
          "text": [
            "Epoch 1/30\n",
            "188/188 - 2s - loss: 0.6248 - accuracy: 0.8304 - val_loss: 0.3035 - val_accuracy: 0.9174 - 2s/epoch - 9ms/step\n",
            "Epoch 2/30\n",
            "188/188 - 1s - loss: 0.2902 - accuracy: 0.9179 - val_loss: 0.2446 - val_accuracy: 0.9340 - 573ms/epoch - 3ms/step\n",
            "Epoch 3/30\n",
            "188/188 - 1s - loss: 0.2381 - accuracy: 0.9326 - val_loss: 0.2118 - val_accuracy: 0.9414 - 640ms/epoch - 3ms/step\n",
            "Epoch 4/30\n",
            "188/188 - 1s - loss: 0.2006 - accuracy: 0.9439 - val_loss: 0.1914 - val_accuracy: 0.9465 - 595ms/epoch - 3ms/step\n",
            "Epoch 5/30\n",
            "188/188 - 1s - loss: 0.1732 - accuracy: 0.9512 - val_loss: 0.1644 - val_accuracy: 0.9538 - 590ms/epoch - 3ms/step\n",
            "Epoch 6/30\n",
            "188/188 - 1s - loss: 0.1510 - accuracy: 0.9571 - val_loss: 0.1538 - val_accuracy: 0.9571 - 584ms/epoch - 3ms/step\n",
            "Epoch 7/30\n",
            "188/188 - 1s - loss: 0.1359 - accuracy: 0.9615 - val_loss: 0.1424 - val_accuracy: 0.9600 - 722ms/epoch - 4ms/step\n",
            "Epoch 8/30\n",
            "188/188 - 1s - loss: 0.1224 - accuracy: 0.9650 - val_loss: 0.1351 - val_accuracy: 0.9617 - 833ms/epoch - 4ms/step\n",
            "Epoch 9/30\n",
            "188/188 - 1s - loss: 0.1125 - accuracy: 0.9680 - val_loss: 0.1299 - val_accuracy: 0.9638 - 829ms/epoch - 4ms/step\n",
            "Epoch 10/30\n",
            "188/188 - 1s - loss: 0.1028 - accuracy: 0.9704 - val_loss: 0.1293 - val_accuracy: 0.9632 - 593ms/epoch - 3ms/step\n",
            "Epoch 11/30\n",
            "188/188 - 1s - loss: 0.0959 - accuracy: 0.9730 - val_loss: 0.1192 - val_accuracy: 0.9662 - 577ms/epoch - 3ms/step\n",
            "Epoch 12/30\n",
            "188/188 - 1s - loss: 0.0895 - accuracy: 0.9754 - val_loss: 0.1182 - val_accuracy: 0.9664 - 557ms/epoch - 3ms/step\n",
            "Epoch 13/30\n",
            "188/188 - 1s - loss: 0.0834 - accuracy: 0.9767 - val_loss: 0.1184 - val_accuracy: 0.9668 - 592ms/epoch - 3ms/step\n",
            "Epoch 14/30\n",
            "188/188 - 1s - loss: 0.0783 - accuracy: 0.9783 - val_loss: 0.1129 - val_accuracy: 0.9673 - 573ms/epoch - 3ms/step\n",
            "Epoch 15/30\n",
            "188/188 - 1s - loss: 0.0748 - accuracy: 0.9781 - val_loss: 0.1121 - val_accuracy: 0.9663 - 599ms/epoch - 3ms/step\n",
            "Epoch 16/30\n",
            "188/188 - 1s - loss: 0.0689 - accuracy: 0.9806 - val_loss: 0.1087 - val_accuracy: 0.9678 - 619ms/epoch - 3ms/step\n",
            "Epoch 17/30\n",
            "188/188 - 1s - loss: 0.0653 - accuracy: 0.9816 - val_loss: 0.1070 - val_accuracy: 0.9697 - 712ms/epoch - 4ms/step\n",
            "Epoch 18/30\n",
            "188/188 - 1s - loss: 0.0613 - accuracy: 0.9831 - val_loss: 0.1044 - val_accuracy: 0.9707 - 712ms/epoch - 4ms/step\n",
            "Epoch 19/30\n",
            "188/188 - 1s - loss: 0.0571 - accuracy: 0.9841 - val_loss: 0.1052 - val_accuracy: 0.9704 - 625ms/epoch - 3ms/step\n",
            "Epoch 20/30\n",
            "188/188 - 1s - loss: 0.0553 - accuracy: 0.9843 - val_loss: 0.1043 - val_accuracy: 0.9693 - 627ms/epoch - 3ms/step\n",
            "Epoch 21/30\n",
            "188/188 - 1s - loss: 0.0521 - accuracy: 0.9853 - val_loss: 0.1026 - val_accuracy: 0.9700 - 583ms/epoch - 3ms/step\n",
            "Epoch 22/30\n",
            "188/188 - 1s - loss: 0.0494 - accuracy: 0.9856 - val_loss: 0.1038 - val_accuracy: 0.9683 - 564ms/epoch - 3ms/step\n",
            "Epoch 23/30\n",
            "188/188 - 1s - loss: 0.0460 - accuracy: 0.9871 - val_loss: 0.1057 - val_accuracy: 0.9693 - 586ms/epoch - 3ms/step\n",
            "Epoch 24/30\n",
            "188/188 - 1s - loss: 0.0438 - accuracy: 0.9882 - val_loss: 0.1035 - val_accuracy: 0.9693 - 592ms/epoch - 3ms/step\n",
            "Epoch 25/30\n",
            "188/188 - 1s - loss: 0.0410 - accuracy: 0.9888 - val_loss: 0.1016 - val_accuracy: 0.9703 - 573ms/epoch - 3ms/step\n",
            "Epoch 26/30\n",
            "188/188 - 1s - loss: 0.0392 - accuracy: 0.9895 - val_loss: 0.1038 - val_accuracy: 0.9705 - 906ms/epoch - 5ms/step\n",
            "Epoch 27/30\n",
            "188/188 - 1s - loss: 0.0372 - accuracy: 0.9906 - val_loss: 0.1014 - val_accuracy: 0.9713 - 839ms/epoch - 4ms/step\n",
            "Epoch 28/30\n",
            "188/188 - 1s - loss: 0.0348 - accuracy: 0.9914 - val_loss: 0.1027 - val_accuracy: 0.9696 - 827ms/epoch - 4ms/step\n",
            "Epoch 29/30\n",
            "188/188 - 1s - loss: 0.0334 - accuracy: 0.9912 - val_loss: 0.1013 - val_accuracy: 0.9697 - 573ms/epoch - 3ms/step\n",
            "Epoch 30/30\n",
            "188/188 - 1s - loss: 0.0320 - accuracy: 0.9920 - val_loss: 0.1032 - val_accuracy: 0.9706 - 632ms/epoch - 3ms/step\n"
          ]
        }
      ]
    },
    {
      "cell_type": "code",
      "source": [
        "plt.xlabel(\"Épocas'\")\n",
        "plt.ylabel(\"Loss\")\n",
        "plt.plot(history4.history['loss'], label=\"Treino\")\n",
        "plt.plot(history4.history['val_loss'], label=\"Val\")\n",
        "plt.legend()\n",
        "plt.show()\n"
      ],
      "metadata": {
        "colab": {
          "base_uri": "https://localhost:8080/",
          "height": 451
        },
        "id": "0CPWJR60Q9VC",
        "outputId": "3ab18368-ad21-4b95-ad13-ecb342b5617e"
      },
      "execution_count": null,
      "outputs": [
        {
          "output_type": "display_data",
          "data": {
            "text/plain": [
              "<Figure size 640x480 with 1 Axes>"
            ],
            "image/png": "[encoded data removed]"
          },
          "metadata": {}
        }
      ]
    },
    {
      "cell_type": "code",
      "source": [
        "#Avaliação do modelo treinado no conjunto de teste\n",
        "print(\"Avaliação do modelo (Teste)\")\n",
        "results4 = modelo4.evaluate(x_test, y_test)\n",
        "print(\"Test loss, Test acc:\", results3)\n"
      ],
      "metadata": {
        "colab": {
          "base_uri": "https://localhost:8080/"
        },
        "id": "3AnM8RKMRlRs",
        "outputId": "809ab775-843e-40fa-9671-06223954d03f"
      },
      "execution_count": null,
      "outputs": [
        {
          "output_type": "stream",
          "name": "stdout",
          "text": [
            "Avaliação do modelo (Teste)\n",
            "313/313 [==============================] - 1s 2ms/step - loss: 0.0872 - accuracy: 0.9741\n",
            "Test loss, Test acc: [0.08778582513332367, 0.9750000238418579]\n"
          ]
        }
      ]
    },
    {
      "cell_type": "code",
      "source": [
        "number_neurons_l.append('50relu + 10softmax')\n",
        "test_loss_l.append(results4[0])\n",
        "test_acc_l.append(results4[1])"
      ],
      "metadata": {
        "id": "4YC0h7Z7Q9bn"
      },
      "execution_count": null,
      "outputs": []
    },
    {
      "cell_type": "markdown",
      "source": [
        "# 4\\. Summary"
      ],
      "metadata": {
        "id": "dNU7N2HYGAyV"
      }
    },
    {
      "cell_type": "code",
      "source": [
        "results1_df = pd\n",
        "results1_df = pd.DataFrame(number_neurons_l, columns=['activation'])\n",
        "results1_df['test_loss'] = test_loss_l\n",
        "results1_df['test_acc'] = test_acc_l"
      ],
      "metadata": {
        "id": "p83MXpGvLodU"
      },
      "execution_count": null,
      "outputs": []
    },
    {
      "cell_type": "code",
      "source": [
        "results1_df"
      ],
      "metadata": {
        "colab": {
          "base_uri": "https://localhost:8080/",
          "height": 143
        },
        "id": "p3WuxdmYLogK",
        "outputId": "d56a382c-ebf7-4f78-85f8-1c581965242e"
      },
      "execution_count": null,
      "outputs": [
        {
          "output_type": "execute_result",
          "data": {
            "text/plain": [
              "            activation  test_loss  test_acc\n",
              "0  100relu + 10softmax   0.081251    0.9778\n",
              "1   80relu + 10softmax   0.087786    0.9750\n",
              "2   50relu + 10softmax   0.087152    0.9741"
            ],
            "text/html": [
              "\n",
              "  <div id=\"df-aab5fabc-b9cf-4e7c-8cee-d80fee003b8f\">\n",
              "    <div class=\"colab-df-container\">\n",
              "      <div>\n",
              "<style scoped>\n",
              "    .dataframe tbody tr th:only-of-type {\n",
              "        vertical-align: middle;\n",
              "    }\n",
              "\n",
              "    .dataframe tbody tr th {\n",
              "        vertical-align: top;\n",
              "    }\n",
              "\n",
              "    .dataframe thead th {\n",
              "        text-align: right;\n",
              "    }\n",
              "</style>\n",
              "<table border=\"1\" class=\"dataframe\">\n",
              "  <thead>\n",
              "    <tr style=\"text-align: right;\">\n",
              "      <th></th>\n",
              "      <th>activation</th>\n",
              "      <th>test_loss</th>\n",
              "      <th>test_acc</th>\n",
              "    </tr>\n",
              "  </thead>\n",
              "  <tbody>\n",
              "    <tr>\n",
              "      <th>0</th>\n",
              "      <td>100relu + 10softmax</td>\n",
              "      <td>0.081251</td>\n",
              "      <td>0.9778</td>\n",
              "    </tr>\n",
              "    <tr>\n",
              "      <th>1</th>\n",
              "      <td>80relu + 10softmax</td>\n",
              "      <td>0.087786</td>\n",
              "      <td>0.9750</td>\n",
              "    </tr>\n",
              "    <tr>\n",
              "      <th>2</th>\n",
              "      <td>50relu + 10softmax</td>\n",
              "      <td>0.087152</td>\n",
              "      <td>0.9741</td>\n",
              "    </tr>\n",
              "  </tbody>\n",
              "</table>\n",
              "</div>\n",
              "      <button class=\"colab-df-convert\" onclick=\"convertToInteractive('df-aab5fabc-b9cf-4e7c-8cee-d80fee003b8f')\"\n",
              "              title=\"Convert this dataframe to an interactive table.\"\n",
              "              style=\"display:none;\">\n",
              "        \n",
              "  <svg xmlns=\"http://www.w3.org/2000/svg\" height=\"24px\"viewBox=\"0 0 24 24\"\n",
              "       width=\"24px\">\n",
              "    <path d=\"M0 0h24v24H0V0z\" fill=\"none\"/>\n",
              "    <path d=\"M18.56 5.44l.94 2.06.94-2.06 2.06-.94-2.06-.94-.94-2.06-.94 2.06-2.06.94zm-11 1L8.5 8.5l.94-2.06 2.06-.94-2.06-.94L8.5 2.5l-.94 2.06-2.06.94zm10 10l.94 2.06.94-2.06 2.06-.94-2.06-.94-.94-2.06-.94 2.06-2.06.94z\"/><path d=\"M17.41 7.96l-1.37-1.37c-.4-.4-.92-.59-1.43-.59-.52 0-1.04.2-1.43.59L10.3 9.45l-7.72 7.72c-.78.78-.78 2.05 0 2.83L4 21.41c.39.39.9.59 1.41.59.51 0 1.02-.2 1.41-.59l7.78-7.78 2.81-2.81c.8-.78.8-2.07 0-2.86zM5.41 20L4 18.59l7.72-7.72 1.47 1.35L5.41 20z\"/>\n",
              "  </svg>\n",
              "      </button>\n",
              "      \n",
              "  <style>\n",
              "    .colab-df-container {\n",
              "      display:flex;\n",
              "      flex-wrap:wrap;\n",
              "      gap: 12px;\n",
              "    }\n",
              "\n",
              "    .colab-df-convert {\n",
              "      background-color: #E8F0FE;\n",
              "      border: none;\n",
              "      border-radius: 50%;\n",
              "      cursor: pointer;\n",
              "      display: none;\n",
              "      fill: #1967D2;\n",
              "      height: 32px;\n",
              "      padding: 0 0 0 0;\n",
              "      width: 32px;\n",
              "    }\n",
              "\n",
              "    .colab-df-convert:hover {\n",
              "      background-color: #E2EBFA;\n",
              "      box-shadow: 0px 1px 2px rgba(60, 64, 67, 0.3), 0px 1px 3px 1px rgba(60, 64, 67, 0.15);\n",
              "      fill: #174EA6;\n",
              "    }\n",
              "\n",
              "    [theme=dark] .colab-df-convert {\n",
              "      background-color: #3B4455;\n",
              "      fill: #D2E3FC;\n",
              "    }\n",
              "\n",
              "    [theme=dark] .colab-df-convert:hover {\n",
              "      background-color: #434B5C;\n",
              "      box-shadow: 0px 1px 3px 1px rgba(0, 0, 0, 0.15);\n",
              "      filter: drop-shadow(0px 1px 2px rgba(0, 0, 0, 0.3));\n",
              "      fill: #FFFFFF;\n",
              "    }\n",
              "  </style>\n",
              "\n",
              "      <script>\n",
              "        const buttonEl =\n",
              "          document.querySelector('#df-aab5fabc-b9cf-4e7c-8cee-d80fee003b8f button.colab-df-convert');\n",
              "        buttonEl.style.display =\n",
              "          google.colab.kernel.accessAllowed ? 'block' : 'none';\n",
              "\n",
              "        async function convertToInteractive(key) {\n",
              "          const element = document.querySelector('#df-aab5fabc-b9cf-4e7c-8cee-d80fee003b8f');\n",
              "          const dataTable =\n",
              "            await google.colab.kernel.invokeFunction('convertToInteractive',\n",
              "                                                     [key], {});\n",
              "          if (!dataTable) return;\n",
              "\n",
              "          const docLinkHtml = 'Like what you see? Visit the ' +\n",
              "            '<a target=\"_blank\" href=https://colab.research.google.com/notebooks/data_table.ipynb>data table notebook</a>'\n",
              "            + ' to learn more about interactive tables.';\n",
              "          element.innerHTML = '';\n",
              "          dataTable['output_type'] = 'display_data';\n",
              "          await google.colab.output.renderOutput(dataTable, element);\n",
              "          const docLink = document.createElement('div');\n",
              "          docLink.innerHTML = docLinkHtml;\n",
              "          element.appendChild(docLink);\n",
              "        }\n",
              "      </script>\n",
              "    </div>\n",
              "  </div>\n",
              "  "
            ]
          },
          "metadata": {},
          "execution_count": 23
        }
      ]
    },
    {
      "cell_type": "markdown",
      "source": [
        "Results are similar even with the variation of the quantity of neurons at hidden layer."
      ],
      "metadata": {
        "id": "Zcy-9nyaNzDz"
      }
    }
  ],
  "metadata": {
    "accelerator": "GPU",
    "colab": {
      "provenance": [],
      "toc_visible": true,
      "gpuType": "T4",
      "include_colab_link": true
    },
    "kernelspec": {
      "display_name": "Python 3",
      "name": "python3"
    },
    "language_info": {
      "name": "python"
    }
  },
  "nbformat": 4,
  "nbformat_minor": 0
}