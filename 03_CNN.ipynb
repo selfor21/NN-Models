{
  "cells": [
    {
      "cell_type": "markdown",
      "metadata": {
        "id": "view-in-github",
        "colab_type": "text"
      },
      "source": [
        "<a href=\"https://colab.research.google.com/github/selfor21/NN-Models/blob/main/03_CNN.ipynb\" target=\"_parent\"><img src=\"https://colab.research.google.com/assets/colab-badge.svg\" alt=\"Open In Colab\"/></a>"
      ]
    },
    {
      "cell_type": "markdown",
      "metadata": {
        "id": "ikxZW8AllWK6"
      },
      "source": [
        "# CONVOLUTIONAL NEURAL NETWORK\n",
        "\n",
        "## Exercício de Apoio - Semana 02\n",
        "\n",
        "### Convolucional Network - different configuratons\n",
        "\n",
        "\n"
      ]
    },
    {
      "cell_type": "markdown",
      "metadata": {
        "id": "RLcCjipXla_K"
      },
      "source": [
        "# 1\\. Libraries"
      ]
    },
    {
      "cell_type": "code",
      "execution_count": 66,
      "metadata": {
        "colab": {
          "base_uri": "https://localhost:8080/"
        },
        "id": "Zo2guFZtmNCI",
        "outputId": "35248173-b060-4940-bcf7-4235d50606d7"
      },
      "outputs": [
        {
          "output_type": "stream",
          "name": "stdout",
          "text": [
            "2.12.0\n"
          ]
        }
      ],
      "source": [
        "import tensorflow as tf\n",
        "from tensorflow import keras\n",
        "from tensorflow.keras import layers\n",
        "from tensorflow.keras import Model\n",
        "import keras.datasets as kds\n",
        "import pandas as pd\n",
        "\n",
        "import numpy as np\n",
        "import matplotlib.pyplot as plt\n",
        "from matplotlib.image import imread\n",
        "\n",
        "print(tf.__version__)"
      ]
    },
    {
      "cell_type": "markdown",
      "metadata": {
        "id": "crg4eS_UrgV_"
      },
      "source": [
        "# 2\\. Dataset MNIST"
      ]
    },
    {
      "cell_type": "markdown",
      "metadata": {
        "id": "QgKHcl8Cp5jT"
      },
      "source": [
        "\n",
        "\n",
        "### Public dataset with 70000 examples (60K Train / 10K Test)\n",
        "\n",
        "<img src=\"https://upload.wikimedia.org/wikipedia/commons/2/27/MnistExamples.png\">\n",
        "\n",
        "Ver: http://yann.lecun.com/exdb/mnist/"
      ]
    },
    {
      "cell_type": "markdown",
      "metadata": {
        "id": "gN2ItdNyri97"
      },
      "source": [
        "## Data loading and preparation"
      ]
    },
    {
      "cell_type": "code",
      "execution_count": 67,
      "metadata": {
        "id": "DpXok59srmb6"
      },
      "outputs": [],
      "source": [
        "input_shape = (28, 28, 1)\n",
        "\n",
        "# Keras.datasets\n",
        "(x_train, y_train), (x_test, y_test) = kds.mnist.load_data()\n",
        "\n",
        "# Features Normalization\n",
        "x_train = x_train.astype(\"float32\") / 255\n",
        "x_test = x_test.astype(\"float32\") / 255\n",
        "\n",
        "# One-hot-encoding class convertion\n",
        "num_classes = len(np.unique(y_train))\n",
        "\n",
        "y_train = keras.utils.to_categorical(y_train, num_classes)\n",
        "y_test = keras.utils.to_categorical(y_test, num_classes)\n"
      ]
    },
    {
      "cell_type": "code",
      "execution_count": 68,
      "metadata": {
        "colab": {
          "base_uri": "https://localhost:8080/",
          "height": 170
        },
        "id": "zHsCsLoJtGt6",
        "outputId": "c2181909-455c-4bec-e021-ed089154ea4a"
      },
      "outputs": [
        {
          "output_type": "display_data",
          "data": {
            "text/plain": [
              "<Figure size 1000x800 with 5 Axes>"
            ],
            "image/png": "[encoded data removed]"
          },
          "metadata": {}
        }
      ],
      "source": [
        "plt.figure(figsize=(10, 8))\n",
        "for i in range(5):\n",
        "    ax = plt.subplot(4, 5, i + 1)\n",
        "    plt.imshow(x_test[i].reshape(28, 28))\n",
        "    plt.gray()\n",
        "    ax.get_xaxis().set_visible(False)\n",
        "    ax.get_yaxis().set_visible(False)\n",
        "plt.show()"
      ]
    },
    {
      "cell_type": "markdown",
      "metadata": {
        "id": "lzcs1uepmBaI"
      },
      "source": [
        "# 3\\. Models"
      ]
    },
    {
      "cell_type": "markdown",
      "source": [
        "We can test different configurations with kernel size, number of layers and number of neurons."
      ],
      "metadata": {
        "id": "jZh8yUSWNVnU"
      }
    },
    {
      "cell_type": "code",
      "source": [
        "test_loss_l = []\n",
        "test_acc_l = []\n",
        "model_l = []\n",
        "history_l = []\n",
        "params_l = []"
      ],
      "metadata": {
        "id": "-cGzZ9KCOaHc"
      },
      "execution_count": 69,
      "outputs": []
    },
    {
      "cell_type": "markdown",
      "source": [
        "## 3.1 Model kernel 3x3 / 2 Conv 5 & 10 "
      ],
      "metadata": {
        "id": "WVqfnz0lM6jj"
      }
    },
    {
      "cell_type": "code",
      "execution_count": 70,
      "metadata": {
        "colab": {
          "base_uri": "https://localhost:8080/"
        },
        "id": "HfOsILiwvUuD",
        "outputId": "a9af746d-f2e1-4abd-d26d-75f187e5da0e"
      },
      "outputs": [
        {
          "output_type": "stream",
          "name": "stdout",
          "text": [
            "Model: \"sequential_11\"\n",
            "_________________________________________________________________\n",
            " Layer (type)                Output Shape              Param #   \n",
            "=================================================================\n",
            " conv2d_25 (Conv2D)          (None, 26, 26, 5)         50        \n",
            "                                                                 \n",
            " max_pooling2d_25 (MaxPoolin  (None, 13, 13, 5)        0         \n",
            " g2D)                                                            \n",
            "                                                                 \n",
            " conv2d_26 (Conv2D)          (None, 11, 11, 10)        460       \n",
            "                                                                 \n",
            " max_pooling2d_26 (MaxPoolin  (None, 5, 5, 10)         0         \n",
            " g2D)                                                            \n",
            "                                                                 \n",
            " flatten_11 (Flatten)        (None, 250)               0         \n",
            "                                                                 \n",
            " dense_11 (Dense)            (None, 10)                2510      \n",
            "                                                                 \n",
            "=================================================================\n",
            "Total params: 3,020\n",
            "Trainable params: 3,020\n",
            "Non-trainable params: 0\n",
            "_________________________________________________________________\n"
          ]
        }
      ],
      "source": [
        "mod31 = keras.Sequential(\n",
        "    [\n",
        "        keras.Input(shape=input_shape),\n",
        "        keras.layers.Conv2D(5, kernel_size=(3, 3), activation=\"relu\"),\n",
        "        keras.layers.MaxPooling2D(pool_size=(2, 2)),\n",
        "        keras.layers.Conv2D(10, kernel_size=(3, 3), activation=\"relu\"),\n",
        "        keras.layers.MaxPooling2D(pool_size=(2, 2)),\n",
        "        keras.layers.Flatten(),\n",
        "        keras.layers.Dense(num_classes, activation=\"softmax\"),\n",
        "    ]\n",
        ")\n",
        "\n",
        "mod31.summary()"
      ]
    },
    {
      "cell_type": "code",
      "source": [
        "#Graph\n",
        "tf.keras.utils.plot_model(mod31, show_shapes=True)"
      ],
      "metadata": {
        "colab": {
          "base_uri": "https://localhost:8080/",
          "height": 754
        },
        "id": "ie5qSUlK9W1s",
        "outputId": "28a33353-2e04-40c7-88f1-b03af1c111af"
      },
      "execution_count": 71,
      "outputs": [
        {
          "output_type": "execute_result",
          "data": {
            "image/png": "[encoded data removed]",
            "text/plain": [
              "<IPython.core.display.Image object>"
            ]
          },
          "metadata": {},
          "execution_count": 71
        }
      ]
    },
    {
      "cell_type": "code",
      "execution_count": 72,
      "metadata": {
        "colab": {
          "base_uri": "https://localhost:8080/"
        },
        "id": "ew39-xTHwYL-",
        "outputId": "efc1b51c-c937-4539-d5f4-4d9d7e888891"
      },
      "outputs": [
        {
          "output_type": "stream",
          "name": "stdout",
          "text": [
            "Epoch 1/30\n",
            "188/188 - 3s - loss: 0.9999 - accuracy: 0.7226 - val_loss: 0.3026 - val_accuracy: 0.9141 - 3s/epoch - 15ms/step\n",
            "Epoch 2/30\n",
            "188/188 - 1s - loss: 0.2563 - accuracy: 0.9253 - val_loss: 0.1846 - val_accuracy: 0.9494 - 827ms/epoch - 4ms/step\n",
            "Epoch 3/30\n",
            "188/188 - 1s - loss: 0.1717 - accuracy: 0.9503 - val_loss: 0.1378 - val_accuracy: 0.9622 - 809ms/epoch - 4ms/step\n",
            "Epoch 4/30\n",
            "188/188 - 1s - loss: 0.1338 - accuracy: 0.9609 - val_loss: 0.1150 - val_accuracy: 0.9664 - 783ms/epoch - 4ms/step\n",
            "Epoch 5/30\n",
            "188/188 - 1s - loss: 0.1130 - accuracy: 0.9663 - val_loss: 0.1032 - val_accuracy: 0.9704 - 816ms/epoch - 4ms/step\n",
            "Epoch 6/30\n",
            "188/188 - 1s - loss: 0.1002 - accuracy: 0.9698 - val_loss: 0.0987 - val_accuracy: 0.9724 - 841ms/epoch - 4ms/step\n",
            "Epoch 7/30\n",
            "188/188 - 1s - loss: 0.0904 - accuracy: 0.9726 - val_loss: 0.0889 - val_accuracy: 0.9727 - 822ms/epoch - 4ms/step\n",
            "Epoch 8/30\n",
            "188/188 - 1s - loss: 0.0842 - accuracy: 0.9744 - val_loss: 0.0875 - val_accuracy: 0.9737 - 808ms/epoch - 4ms/step\n",
            "Epoch 9/30\n",
            "188/188 - 1s - loss: 0.0792 - accuracy: 0.9754 - val_loss: 0.0839 - val_accuracy: 0.9749 - 845ms/epoch - 4ms/step\n",
            "Epoch 10/30\n",
            "188/188 - 1s - loss: 0.0744 - accuracy: 0.9771 - val_loss: 0.0801 - val_accuracy: 0.9760 - 798ms/epoch - 4ms/step\n",
            "Epoch 11/30\n",
            "188/188 - 1s - loss: 0.0710 - accuracy: 0.9785 - val_loss: 0.0775 - val_accuracy: 0.9772 - 766ms/epoch - 4ms/step\n",
            "Epoch 12/30\n",
            "188/188 - 1s - loss: 0.0687 - accuracy: 0.9790 - val_loss: 0.0777 - val_accuracy: 0.9768 - 813ms/epoch - 4ms/step\n",
            "Epoch 13/30\n",
            "188/188 - 1s - loss: 0.0656 - accuracy: 0.9797 - val_loss: 0.0752 - val_accuracy: 0.9778 - 844ms/epoch - 4ms/step\n",
            "Epoch 14/30\n",
            "188/188 - 1s - loss: 0.0638 - accuracy: 0.9804 - val_loss: 0.0737 - val_accuracy: 0.9780 - 1s/epoch - 6ms/step\n",
            "Epoch 15/30\n",
            "188/188 - 1s - loss: 0.0619 - accuracy: 0.9809 - val_loss: 0.0787 - val_accuracy: 0.9776 - 1s/epoch - 6ms/step\n",
            "Epoch 16/30\n",
            "188/188 - 1s - loss: 0.0606 - accuracy: 0.9816 - val_loss: 0.0748 - val_accuracy: 0.9778 - 875ms/epoch - 5ms/step\n",
            "Epoch 17/30\n",
            "188/188 - 1s - loss: 0.0592 - accuracy: 0.9818 - val_loss: 0.0721 - val_accuracy: 0.9797 - 810ms/epoch - 4ms/step\n",
            "Epoch 18/30\n",
            "188/188 - 1s - loss: 0.0576 - accuracy: 0.9824 - val_loss: 0.0736 - val_accuracy: 0.9790 - 753ms/epoch - 4ms/step\n",
            "Epoch 19/30\n",
            "188/188 - 1s - loss: 0.0563 - accuracy: 0.9827 - val_loss: 0.0706 - val_accuracy: 0.9793 - 803ms/epoch - 4ms/step\n",
            "Epoch 20/30\n",
            "188/188 - 1s - loss: 0.0551 - accuracy: 0.9825 - val_loss: 0.0724 - val_accuracy: 0.9786 - 828ms/epoch - 4ms/step\n",
            "Epoch 21/30\n",
            "188/188 - 1s - loss: 0.0535 - accuracy: 0.9835 - val_loss: 0.0693 - val_accuracy: 0.9799 - 840ms/epoch - 4ms/step\n",
            "Epoch 22/30\n",
            "188/188 - 1s - loss: 0.0528 - accuracy: 0.9838 - val_loss: 0.0720 - val_accuracy: 0.9791 - 842ms/epoch - 4ms/step\n",
            "Epoch 23/30\n",
            "188/188 - 1s - loss: 0.0519 - accuracy: 0.9839 - val_loss: 0.0687 - val_accuracy: 0.9806 - 769ms/epoch - 4ms/step\n",
            "Epoch 24/30\n",
            "188/188 - 1s - loss: 0.0507 - accuracy: 0.9843 - val_loss: 0.0697 - val_accuracy: 0.9799 - 804ms/epoch - 4ms/step\n",
            "Epoch 25/30\n",
            "188/188 - 1s - loss: 0.0498 - accuracy: 0.9847 - val_loss: 0.0699 - val_accuracy: 0.9793 - 785ms/epoch - 4ms/step\n",
            "Epoch 26/30\n",
            "188/188 - 1s - loss: 0.0501 - accuracy: 0.9843 - val_loss: 0.0674 - val_accuracy: 0.9800 - 811ms/epoch - 4ms/step\n",
            "Epoch 27/30\n",
            "188/188 - 1s - loss: 0.0491 - accuracy: 0.9847 - val_loss: 0.0673 - val_accuracy: 0.9806 - 828ms/epoch - 4ms/step\n",
            "Epoch 28/30\n",
            "188/188 - 1s - loss: 0.0477 - accuracy: 0.9851 - val_loss: 0.0673 - val_accuracy: 0.9810 - 1s/epoch - 6ms/step\n",
            "Epoch 29/30\n",
            "188/188 - 1s - loss: 0.0473 - accuracy: 0.9855 - val_loss: 0.0660 - val_accuracy: 0.9810 - 1s/epoch - 5ms/step\n",
            "Epoch 30/30\n",
            "188/188 - 1s - loss: 0.0456 - accuracy: 0.9864 - val_loss: 0.0696 - val_accuracy: 0.9793 - 881ms/epoch - 5ms/step\n"
          ]
        }
      ],
      "source": [
        "mod31.compile(loss=\"categorical_crossentropy\", optimizer=\"adam\", metrics=[\"accuracy\"])\n",
        "\n",
        "history = mod31.fit(x_train, y_train, batch_size=256, epochs=30, validation_split=0.2, verbose=2)"
      ]
    },
    {
      "cell_type": "code",
      "execution_count": 73,
      "metadata": {
        "colab": {
          "base_uri": "https://localhost:8080/",
          "height": 451
        },
        "id": "RmOn55EoxbA8",
        "outputId": "9c5b9f41-5ce8-40f8-bef2-6606084b423f"
      },
      "outputs": [
        {
          "output_type": "display_data",
          "data": {
            "text/plain": [
              "<Figure size 640x480 with 1 Axes>"
            ],
            "image/png": "[encoded data removed]"
          },
          "metadata": {}
        }
      ],
      "source": [
        "plt.xlabel(\"Épocas'\")\n",
        "plt.ylabel(\"Loss\")\n",
        "plt.plot(history.history['loss'], label=\"Treino\")\n",
        "plt.plot(history.history['val_loss'], label=\"Val\")\n",
        "plt.legend()\n",
        "plt.show()\n"
      ]
    },
    {
      "cell_type": "code",
      "execution_count": 74,
      "metadata": {
        "colab": {
          "base_uri": "https://localhost:8080/"
        },
        "id": "rjtmvDSvwYJL",
        "outputId": "1bdac614-8063-4ab1-cd7c-7deeab507d2c"
      },
      "outputs": [
        {
          "output_type": "stream",
          "name": "stdout",
          "text": [
            "Model Evaluation (Test)\n",
            "10/10 [==============================] - 0s 5ms/step - loss: 0.0540 - accuracy: 0.9837\n",
            "Test loss, Test acc: [0.05401204153895378, 0.9836999773979187]\n"
          ]
        }
      ],
      "source": [
        "# Model Evaluation - Test data\n",
        "print(\"Model Evaluation (Test)\")\n",
        "results = mod31.evaluate(x_test, y_test, batch_size=1000)\n",
        "print(\"Test loss, Test acc:\", results)\n"
      ]
    },
    {
      "cell_type": "code",
      "source": [
        "model_l.append('K_3x3_2_C_5_10')\n",
        "test_loss_l.append(results[0])\n",
        "test_acc_l.append(results[1])\n",
        "params_l.append(mod31.count_params())"
      ],
      "metadata": {
        "id": "dTnkoV5zQp_7"
      },
      "execution_count": 75,
      "outputs": []
    },
    {
      "cell_type": "markdown",
      "source": [
        "## 3.2 Model kernel 3x3 / 3 Conv 5 & 10 & 10"
      ],
      "metadata": {
        "id": "u_vMgZLhRTg2"
      }
    },
    {
      "cell_type": "code",
      "source": [
        "mod32 = keras.Sequential(\n",
        "    [\n",
        "        keras.Input(shape=input_shape),\n",
        "        keras.layers.Conv2D(5, kernel_size=(3, 3), activation=\"relu\"),\n",
        "        keras.layers.MaxPooling2D(pool_size=(2, 2)),\n",
        "        keras.layers.Conv2D(10, kernel_size=(3, 3), activation=\"relu\"),\n",
        "        keras.layers.MaxPooling2D(pool_size=(2, 2)),\n",
        "        keras.layers.Conv2D(10, kernel_size=(3, 3), activation=\"relu\"),\n",
        "        keras.layers.MaxPooling2D(pool_size=(2, 2)),\n",
        "        keras.layers.Flatten(),\n",
        "        keras.layers.Dense(num_classes, activation=\"softmax\"),\n",
        "    ]\n",
        ")"
      ],
      "metadata": {
        "id": "5tsVWgzvQqUN"
      },
      "execution_count": 76,
      "outputs": []
    },
    {
      "cell_type": "code",
      "source": [
        "mod32.summary()"
      ],
      "metadata": {
        "colab": {
          "base_uri": "https://localhost:8080/"
        },
        "id": "wmmqBYAEXh06",
        "outputId": "cfce3fe6-3183-45a4-f45a-9b5c614383fc"
      },
      "execution_count": 93,
      "outputs": [
        {
          "output_type": "stream",
          "name": "stdout",
          "text": [
            "Model: \"sequential_12\"\n",
            "_________________________________________________________________\n",
            " Layer (type)                Output Shape              Param #   \n",
            "=================================================================\n",
            " conv2d_27 (Conv2D)          (None, 26, 26, 5)         50        \n",
            "                                                                 \n",
            " max_pooling2d_27 (MaxPoolin  (None, 13, 13, 5)        0         \n",
            " g2D)                                                            \n",
            "                                                                 \n",
            " conv2d_28 (Conv2D)          (None, 11, 11, 10)        460       \n",
            "                                                                 \n",
            " max_pooling2d_28 (MaxPoolin  (None, 5, 5, 10)         0         \n",
            " g2D)                                                            \n",
            "                                                                 \n",
            " conv2d_29 (Conv2D)          (None, 3, 3, 10)          910       \n",
            "                                                                 \n",
            " max_pooling2d_29 (MaxPoolin  (None, 1, 1, 10)         0         \n",
            " g2D)                                                            \n",
            "                                                                 \n",
            " flatten_12 (Flatten)        (None, 10)                0         \n",
            "                                                                 \n",
            " dense_12 (Dense)            (None, 10)                110       \n",
            "                                                                 \n",
            "=================================================================\n",
            "Total params: 1,530\n",
            "Trainable params: 1,530\n",
            "Non-trainable params: 0\n",
            "_________________________________________________________________\n"
          ]
        }
      ]
    },
    {
      "cell_type": "code",
      "source": [
        "mod32.compile(loss=\"categorical_crossentropy\", optimizer=\"adam\", metrics=[\"accuracy\"])\n",
        "\n",
        "history = mod32.fit(x_train, y_train, batch_size=256, epochs=30, validation_split=0.2, verbose=2)"
      ],
      "metadata": {
        "colab": {
          "base_uri": "https://localhost:8080/"
        },
        "id": "lsjkUX-zQqbf",
        "outputId": "a93c2db6-181f-4a0a-de58-6998fdac1190"
      },
      "execution_count": 77,
      "outputs": [
        {
          "output_type": "stream",
          "name": "stdout",
          "text": [
            "Epoch 1/30\n",
            "188/188 - 3s - loss: 1.6464 - accuracy: 0.4638 - val_loss: 0.7903 - val_accuracy: 0.7504 - 3s/epoch - 13ms/step\n",
            "Epoch 2/30\n",
            "188/188 - 1s - loss: 0.6448 - accuracy: 0.7966 - val_loss: 0.4955 - val_accuracy: 0.8500 - 807ms/epoch - 4ms/step\n",
            "Epoch 3/30\n",
            "188/188 - 1s - loss: 0.4557 - accuracy: 0.8615 - val_loss: 0.3808 - val_accuracy: 0.8869 - 847ms/epoch - 5ms/step\n",
            "Epoch 4/30\n",
            "188/188 - 1s - loss: 0.3658 - accuracy: 0.8899 - val_loss: 0.3150 - val_accuracy: 0.9049 - 838ms/epoch - 4ms/step\n",
            "Epoch 5/30\n",
            "188/188 - 1s - loss: 0.3104 - accuracy: 0.9069 - val_loss: 0.2776 - val_accuracy: 0.9159 - 794ms/epoch - 4ms/step\n",
            "Epoch 6/30\n",
            "188/188 - 1s - loss: 0.2752 - accuracy: 0.9173 - val_loss: 0.2507 - val_accuracy: 0.9241 - 829ms/epoch - 4ms/step\n",
            "Epoch 7/30\n",
            "188/188 - 1s - loss: 0.2527 - accuracy: 0.9231 - val_loss: 0.2305 - val_accuracy: 0.9312 - 852ms/epoch - 5ms/step\n",
            "Epoch 8/30\n",
            "188/188 - 1s - loss: 0.2324 - accuracy: 0.9298 - val_loss: 0.2168 - val_accuracy: 0.9349 - 848ms/epoch - 5ms/step\n",
            "Epoch 9/30\n",
            "188/188 - 1s - loss: 0.2183 - accuracy: 0.9344 - val_loss: 0.2028 - val_accuracy: 0.9381 - 1s/epoch - 5ms/step\n",
            "Epoch 10/30\n",
            "188/188 - 1s - loss: 0.2041 - accuracy: 0.9374 - val_loss: 0.1952 - val_accuracy: 0.9413 - 1s/epoch - 7ms/step\n",
            "Epoch 11/30\n",
            "188/188 - 1s - loss: 0.1932 - accuracy: 0.9411 - val_loss: 0.1855 - val_accuracy: 0.9452 - 932ms/epoch - 5ms/step\n",
            "Epoch 12/30\n",
            "188/188 - 1s - loss: 0.1847 - accuracy: 0.9437 - val_loss: 0.1759 - val_accuracy: 0.9471 - 830ms/epoch - 4ms/step\n",
            "Epoch 13/30\n",
            "188/188 - 1s - loss: 0.1776 - accuracy: 0.9455 - val_loss: 0.1718 - val_accuracy: 0.9472 - 854ms/epoch - 5ms/step\n",
            "Epoch 14/30\n",
            "188/188 - 1s - loss: 0.1704 - accuracy: 0.9478 - val_loss: 0.1748 - val_accuracy: 0.9480 - 908ms/epoch - 5ms/step\n",
            "Epoch 15/30\n",
            "188/188 - 1s - loss: 0.1662 - accuracy: 0.9489 - val_loss: 0.1663 - val_accuracy: 0.9500 - 834ms/epoch - 4ms/step\n",
            "Epoch 16/30\n",
            "188/188 - 1s - loss: 0.1609 - accuracy: 0.9508 - val_loss: 0.1567 - val_accuracy: 0.9523 - 817ms/epoch - 4ms/step\n",
            "Epoch 17/30\n",
            "188/188 - 1s - loss: 0.1562 - accuracy: 0.9523 - val_loss: 0.1532 - val_accuracy: 0.9550 - 842ms/epoch - 4ms/step\n",
            "Epoch 18/30\n",
            "188/188 - 1s - loss: 0.1510 - accuracy: 0.9524 - val_loss: 0.1530 - val_accuracy: 0.9532 - 860ms/epoch - 5ms/step\n",
            "Epoch 19/30\n",
            "188/188 - 1s - loss: 0.1469 - accuracy: 0.9550 - val_loss: 0.1479 - val_accuracy: 0.9553 - 835ms/epoch - 4ms/step\n",
            "Epoch 20/30\n",
            "188/188 - 1s - loss: 0.1435 - accuracy: 0.9553 - val_loss: 0.1463 - val_accuracy: 0.9578 - 841ms/epoch - 4ms/step\n",
            "Epoch 21/30\n",
            "188/188 - 1s - loss: 0.1410 - accuracy: 0.9567 - val_loss: 0.1460 - val_accuracy: 0.9565 - 837ms/epoch - 4ms/step\n",
            "Epoch 22/30\n",
            "188/188 - 1s - loss: 0.1375 - accuracy: 0.9571 - val_loss: 0.1422 - val_accuracy: 0.9572 - 841ms/epoch - 4ms/step\n",
            "Epoch 23/30\n",
            "188/188 - 1s - loss: 0.1352 - accuracy: 0.9580 - val_loss: 0.1445 - val_accuracy: 0.9562 - 1s/epoch - 6ms/step\n",
            "Epoch 24/30\n",
            "188/188 - 1s - loss: 0.1330 - accuracy: 0.9587 - val_loss: 0.1399 - val_accuracy: 0.9588 - 1s/epoch - 6ms/step\n",
            "Epoch 25/30\n",
            "188/188 - 1s - loss: 0.1287 - accuracy: 0.9602 - val_loss: 0.1350 - val_accuracy: 0.9598 - 823ms/epoch - 4ms/step\n",
            "Epoch 26/30\n",
            "188/188 - 1s - loss: 0.1270 - accuracy: 0.9606 - val_loss: 0.1328 - val_accuracy: 0.9608 - 828ms/epoch - 4ms/step\n",
            "Epoch 27/30\n",
            "188/188 - 1s - loss: 0.1251 - accuracy: 0.9611 - val_loss: 0.1291 - val_accuracy: 0.9615 - 806ms/epoch - 4ms/step\n",
            "Epoch 28/30\n",
            "188/188 - 1s - loss: 0.1231 - accuracy: 0.9616 - val_loss: 0.1329 - val_accuracy: 0.9613 - 860ms/epoch - 5ms/step\n",
            "Epoch 29/30\n",
            "188/188 - 1s - loss: 0.1212 - accuracy: 0.9620 - val_loss: 0.1303 - val_accuracy: 0.9628 - 895ms/epoch - 5ms/step\n",
            "Epoch 30/30\n",
            "188/188 - 1s - loss: 0.1197 - accuracy: 0.9624 - val_loss: 0.1260 - val_accuracy: 0.9633 - 847ms/epoch - 5ms/step\n"
          ]
        }
      ]
    },
    {
      "cell_type": "code",
      "source": [
        "plt.xlabel(\"Épocas'\")\n",
        "plt.ylabel(\"Loss\")\n",
        "plt.plot(history.history['loss'], label=\"Treino\")\n",
        "plt.plot(history.history['val_loss'], label=\"Val\")\n",
        "plt.legend()\n",
        "plt.show()"
      ],
      "metadata": {
        "colab": {
          "base_uri": "https://localhost:8080/",
          "height": 451
        },
        "id": "aqWH4FT7SDjX",
        "outputId": "64b8d4ee-9b34-4009-f23d-92278467f72c"
      },
      "execution_count": 78,
      "outputs": [
        {
          "output_type": "display_data",
          "data": {
            "text/plain": [
              "<Figure size 640x480 with 1 Axes>"
            ],
            "image/png": "[encoded data removed]"
          },
          "metadata": {}
        }
      ]
    },
    {
      "cell_type": "code",
      "source": [
        "# Model Evaluation - Test data\n",
        "print(\"Model Evaluation (Test)\")\n",
        "results = mod32.evaluate(x_test, y_test, batch_size=1000)\n",
        "print(\"Test loss, Test acc:\", results)\n"
      ],
      "metadata": {
        "colab": {
          "base_uri": "https://localhost:8080/"
        },
        "id": "Lz2kcd3ZSDgM",
        "outputId": "0fa4ab98-cd11-4b45-fcc4-47259c5e0674"
      },
      "execution_count": 79,
      "outputs": [
        {
          "output_type": "stream",
          "name": "stdout",
          "text": [
            "Model Evaluation (Test)\n",
            "10/10 [==============================] - 0s 5ms/step - loss: 0.1200 - accuracy: 0.9623\n",
            "Test loss, Test acc: [0.1199781596660614, 0.9623000025749207]\n"
          ]
        }
      ]
    },
    {
      "cell_type": "code",
      "source": [
        "model_l.append('K_3x3_3_C_5_10')\n",
        "test_loss_l.append(results[0])\n",
        "test_acc_l.append(results[1])\n",
        "params_l.append(mod32.count_params())"
      ],
      "metadata": {
        "id": "pTHCOiT3SDd9"
      },
      "execution_count": 80,
      "outputs": []
    },
    {
      "cell_type": "markdown",
      "source": [
        "## 3.3 Model Kernel 3x3 / 2 Conv 10 & 20"
      ],
      "metadata": {
        "id": "7XpuCM13Sf1N"
      }
    },
    {
      "cell_type": "code",
      "source": [
        "mod33 = keras.Sequential(\n",
        "    [\n",
        "        keras.Input(shape=input_shape),\n",
        "        keras.layers.Conv2D(10, kernel_size=(3, 3), activation=\"relu\"),\n",
        "        keras.layers.MaxPooling2D(pool_size=(2, 2)),\n",
        "        keras.layers.Conv2D(20, kernel_size=(3, 3), activation=\"relu\"),\n",
        "        keras.layers.MaxPooling2D(pool_size=(2, 2)),\n",
        "        keras.layers.Flatten(),\n",
        "        keras.layers.Dense(num_classes, activation=\"softmax\"),\n",
        "    ]\n",
        ")"
      ],
      "metadata": {
        "id": "x2y3UuYXSDak"
      },
      "execution_count": 81,
      "outputs": []
    },
    {
      "cell_type": "code",
      "source": [
        "mod33.compile(loss=\"categorical_crossentropy\", optimizer=\"adam\", metrics=[\"accuracy\"])\n",
        "\n",
        "history = mod33.fit(x_train, y_train, batch_size=256, epochs=30, validation_split=0.2, verbose=2)"
      ],
      "metadata": {
        "colab": {
          "base_uri": "https://localhost:8080/"
        },
        "id": "H-johB23SDXd",
        "outputId": "12e4d79f-3e97-436e-db0c-ae52e17daedc"
      },
      "execution_count": 82,
      "outputs": [
        {
          "output_type": "stream",
          "name": "stdout",
          "text": [
            "Epoch 1/30\n",
            "188/188 - 3s - loss: 0.7401 - accuracy: 0.8124 - val_loss: 0.2203 - val_accuracy: 0.9367 - 3s/epoch - 15ms/step\n",
            "Epoch 2/30\n",
            "188/188 - 1s - loss: 0.1805 - accuracy: 0.9466 - val_loss: 0.1397 - val_accuracy: 0.9620 - 816ms/epoch - 4ms/step\n",
            "Epoch 3/30\n",
            "188/188 - 1s - loss: 0.1216 - accuracy: 0.9638 - val_loss: 0.1072 - val_accuracy: 0.9687 - 858ms/epoch - 5ms/step\n",
            "Epoch 4/30\n",
            "188/188 - 1s - loss: 0.0974 - accuracy: 0.9711 - val_loss: 0.0913 - val_accuracy: 0.9729 - 990ms/epoch - 5ms/step\n",
            "Epoch 5/30\n",
            "188/188 - 1s - loss: 0.0833 - accuracy: 0.9750 - val_loss: 0.0858 - val_accuracy: 0.9739 - 990ms/epoch - 5ms/step\n",
            "Epoch 6/30\n",
            "188/188 - 1s - loss: 0.0730 - accuracy: 0.9780 - val_loss: 0.0800 - val_accuracy: 0.9765 - 777ms/epoch - 4ms/step\n",
            "Epoch 7/30\n",
            "188/188 - 1s - loss: 0.0677 - accuracy: 0.9796 - val_loss: 0.0780 - val_accuracy: 0.9741 - 768ms/epoch - 4ms/step\n",
            "Epoch 8/30\n",
            "188/188 - 1s - loss: 0.0631 - accuracy: 0.9807 - val_loss: 0.0696 - val_accuracy: 0.9787 - 747ms/epoch - 4ms/step\n",
            "Epoch 9/30\n",
            "188/188 - 1s - loss: 0.0593 - accuracy: 0.9816 - val_loss: 0.0676 - val_accuracy: 0.9797 - 770ms/epoch - 4ms/step\n",
            "Epoch 10/30\n",
            "188/188 - 1s - loss: 0.0552 - accuracy: 0.9829 - val_loss: 0.0691 - val_accuracy: 0.9791 - 811ms/epoch - 4ms/step\n",
            "Epoch 11/30\n",
            "188/188 - 1s - loss: 0.0530 - accuracy: 0.9837 - val_loss: 0.0696 - val_accuracy: 0.9775 - 780ms/epoch - 4ms/step\n",
            "Epoch 12/30\n",
            "188/188 - 1s - loss: 0.0494 - accuracy: 0.9843 - val_loss: 0.0667 - val_accuracy: 0.9789 - 752ms/epoch - 4ms/step\n",
            "Epoch 13/30\n",
            "188/188 - 1s - loss: 0.0470 - accuracy: 0.9854 - val_loss: 0.0615 - val_accuracy: 0.9819 - 827ms/epoch - 4ms/step\n",
            "Epoch 14/30\n",
            "188/188 - 1s - loss: 0.0454 - accuracy: 0.9864 - val_loss: 0.0595 - val_accuracy: 0.9822 - 816ms/epoch - 4ms/step\n",
            "Epoch 15/30\n",
            "188/188 - 1s - loss: 0.0429 - accuracy: 0.9868 - val_loss: 0.0565 - val_accuracy: 0.9827 - 794ms/epoch - 4ms/step\n",
            "Epoch 16/30\n",
            "188/188 - 1s - loss: 0.0413 - accuracy: 0.9869 - val_loss: 0.0678 - val_accuracy: 0.9791 - 815ms/epoch - 4ms/step\n",
            "Epoch 17/30\n",
            "188/188 - 1s - loss: 0.0385 - accuracy: 0.9880 - val_loss: 0.0575 - val_accuracy: 0.9835 - 805ms/epoch - 4ms/step\n",
            "Epoch 18/30\n",
            "188/188 - 1s - loss: 0.0377 - accuracy: 0.9880 - val_loss: 0.0595 - val_accuracy: 0.9826 - 1s/epoch - 6ms/step\n",
            "Epoch 19/30\n",
            "188/188 - 1s - loss: 0.0359 - accuracy: 0.9886 - val_loss: 0.0562 - val_accuracy: 0.9838 - 1s/epoch - 6ms/step\n",
            "Epoch 20/30\n",
            "188/188 - 1s - loss: 0.0354 - accuracy: 0.9890 - val_loss: 0.0577 - val_accuracy: 0.9832 - 824ms/epoch - 4ms/step\n",
            "Epoch 21/30\n",
            "188/188 - 1s - loss: 0.0339 - accuracy: 0.9889 - val_loss: 0.0558 - val_accuracy: 0.9835 - 746ms/epoch - 4ms/step\n",
            "Epoch 22/30\n",
            "188/188 - 1s - loss: 0.0325 - accuracy: 0.9901 - val_loss: 0.0557 - val_accuracy: 0.9845 - 751ms/epoch - 4ms/step\n",
            "Epoch 23/30\n",
            "188/188 - 1s - loss: 0.0306 - accuracy: 0.9902 - val_loss: 0.0544 - val_accuracy: 0.9839 - 767ms/epoch - 4ms/step\n",
            "Epoch 24/30\n",
            "188/188 - 1s - loss: 0.0293 - accuracy: 0.9906 - val_loss: 0.0536 - val_accuracy: 0.9851 - 780ms/epoch - 4ms/step\n",
            "Epoch 25/30\n",
            "188/188 - 1s - loss: 0.0285 - accuracy: 0.9910 - val_loss: 0.0560 - val_accuracy: 0.9844 - 763ms/epoch - 4ms/step\n",
            "Epoch 26/30\n",
            "188/188 - 1s - loss: 0.0275 - accuracy: 0.9911 - val_loss: 0.0532 - val_accuracy: 0.9847 - 775ms/epoch - 4ms/step\n",
            "Epoch 27/30\n",
            "188/188 - 1s - loss: 0.0271 - accuracy: 0.9915 - val_loss: 0.0555 - val_accuracy: 0.9850 - 773ms/epoch - 4ms/step\n",
            "Epoch 28/30\n",
            "188/188 - 1s - loss: 0.0250 - accuracy: 0.9920 - val_loss: 0.0537 - val_accuracy: 0.9852 - 773ms/epoch - 4ms/step\n",
            "Epoch 29/30\n",
            "188/188 - 1s - loss: 0.0241 - accuracy: 0.9920 - val_loss: 0.0556 - val_accuracy: 0.9843 - 808ms/epoch - 4ms/step\n",
            "Epoch 30/30\n",
            "188/188 - 1s - loss: 0.0240 - accuracy: 0.9926 - val_loss: 0.0562 - val_accuracy: 0.9850 - 751ms/epoch - 4ms/step\n"
          ]
        }
      ]
    },
    {
      "cell_type": "code",
      "source": [
        "plt.xlabel(\"Épocas'\")\n",
        "plt.ylabel(\"Loss\")\n",
        "plt.plot(history.history['loss'], label=\"Treino\")\n",
        "plt.plot(history.history['val_loss'], label=\"Val\")\n",
        "plt.legend()\n",
        "plt.show()"
      ],
      "metadata": {
        "colab": {
          "base_uri": "https://localhost:8080/",
          "height": 451
        },
        "id": "ZyMY3zg9SDUe",
        "outputId": "0143977a-0b89-413d-a1b0-b688637fd5e9"
      },
      "execution_count": 83,
      "outputs": [
        {
          "output_type": "display_data",
          "data": {
            "text/plain": [
              "<Figure size 640x480 with 1 Axes>"
            ],
            "image/png": "[encoded data removed]"
          },
          "metadata": {}
        }
      ]
    },
    {
      "cell_type": "code",
      "source": [
        "# Model Evaluation - Test data\n",
        "print(\"Model Evaluation (Test)\")\n",
        "results = mod33.evaluate(x_test, y_test, batch_size=1000)\n",
        "print(\"Test loss, Test acc:\", results)\n"
      ],
      "metadata": {
        "colab": {
          "base_uri": "https://localhost:8080/"
        },
        "id": "iwR0K6VHSxUK",
        "outputId": "acc90b80-b346-4487-b3d2-08451a112024"
      },
      "execution_count": 84,
      "outputs": [
        {
          "output_type": "stream",
          "name": "stdout",
          "text": [
            "Model Evaluation (Test)\n",
            "10/10 [==============================] - 0s 6ms/step - loss: 0.0456 - accuracy: 0.9861\n",
            "Test loss, Test acc: [0.04555969685316086, 0.9861000180244446]\n"
          ]
        }
      ]
    },
    {
      "cell_type": "code",
      "source": [
        "model_l.append('K_3x3_3_C_10_20')\n",
        "test_loss_l.append(results[0])\n",
        "test_acc_l.append(results[1])\n",
        "params_l.append(mod33.count_params())"
      ],
      "metadata": {
        "id": "O-Pbm6qDSxXd"
      },
      "execution_count": 85,
      "outputs": []
    },
    {
      "cell_type": "markdown",
      "source": [
        "## 3.4 Model kernel 5x5 / 2 Conv 5 & 10"
      ],
      "metadata": {
        "id": "ZReWYxbaTWLD"
      }
    },
    {
      "cell_type": "code",
      "source": [
        "mod34 = keras.Sequential(\n",
        "    [\n",
        "        keras.Input(shape=input_shape),\n",
        "        keras.layers.Conv2D(5, kernel_size=(5, 5), activation=\"relu\"),\n",
        "        keras.layers.MaxPooling2D(pool_size=(2, 2)),\n",
        "        keras.layers.Conv2D(10, kernel_size=(5, 5), activation=\"relu\"),\n",
        "        keras.layers.MaxPooling2D(pool_size=(2, 2)),        \n",
        "        keras.layers.Flatten(),\n",
        "        keras.layers.Dense(num_classes, activation=\"softmax\"),\n",
        "    ]\n",
        ")"
      ],
      "metadata": {
        "id": "HHtBLGynSDQ2"
      },
      "execution_count": 86,
      "outputs": []
    },
    {
      "cell_type": "code",
      "source": [
        "mod34.compile(loss=\"categorical_crossentropy\", optimizer=\"adam\", metrics=[\"accuracy\"])\n",
        "\n",
        "history = mod34.fit(x_train, y_train, batch_size=256, epochs=30, validation_split=0.2, verbose=2)"
      ],
      "metadata": {
        "colab": {
          "base_uri": "https://localhost:8080/"
        },
        "id": "-Es097RzSDIg",
        "outputId": "6a896d96-f929-4c5b-815f-a1773467950a"
      },
      "execution_count": 87,
      "outputs": [
        {
          "output_type": "stream",
          "name": "stdout",
          "text": [
            "Epoch 1/30\n",
            "188/188 - 3s - loss: 0.8200 - accuracy: 0.7805 - val_loss: 0.2668 - val_accuracy: 0.9234 - 3s/epoch - 18ms/step\n",
            "Epoch 2/30\n",
            "188/188 - 1s - loss: 0.2411 - accuracy: 0.9299 - val_loss: 0.1891 - val_accuracy: 0.9469 - 793ms/epoch - 4ms/step\n",
            "Epoch 3/30\n",
            "188/188 - 1s - loss: 0.1837 - accuracy: 0.9459 - val_loss: 0.1617 - val_accuracy: 0.9542 - 839ms/epoch - 4ms/step\n",
            "Epoch 4/30\n",
            "188/188 - 1s - loss: 0.1519 - accuracy: 0.9548 - val_loss: 0.1402 - val_accuracy: 0.9606 - 794ms/epoch - 4ms/step\n",
            "Epoch 5/30\n",
            "188/188 - 1s - loss: 0.1314 - accuracy: 0.9609 - val_loss: 0.1234 - val_accuracy: 0.9641 - 788ms/epoch - 4ms/step\n",
            "Epoch 6/30\n",
            "188/188 - 1s - loss: 0.1158 - accuracy: 0.9657 - val_loss: 0.1218 - val_accuracy: 0.9641 - 849ms/epoch - 5ms/step\n",
            "Epoch 7/30\n",
            "188/188 - 1s - loss: 0.1068 - accuracy: 0.9679 - val_loss: 0.1087 - val_accuracy: 0.9672 - 791ms/epoch - 4ms/step\n",
            "Epoch 8/30\n",
            "188/188 - 1s - loss: 0.0961 - accuracy: 0.9710 - val_loss: 0.1028 - val_accuracy: 0.9691 - 767ms/epoch - 4ms/step\n",
            "Epoch 9/30\n",
            "188/188 - 1s - loss: 0.0906 - accuracy: 0.9725 - val_loss: 0.0950 - val_accuracy: 0.9725 - 777ms/epoch - 4ms/step\n",
            "Epoch 10/30\n",
            "188/188 - 1s - loss: 0.0854 - accuracy: 0.9737 - val_loss: 0.0947 - val_accuracy: 0.9715 - 790ms/epoch - 4ms/step\n",
            "Epoch 11/30\n",
            "188/188 - 1s - loss: 0.0812 - accuracy: 0.9751 - val_loss: 0.0868 - val_accuracy: 0.9735 - 806ms/epoch - 4ms/step\n",
            "Epoch 12/30\n",
            "188/188 - 1s - loss: 0.0769 - accuracy: 0.9770 - val_loss: 0.0914 - val_accuracy: 0.9721 - 768ms/epoch - 4ms/step\n",
            "Epoch 13/30\n",
            "188/188 - 1s - loss: 0.0734 - accuracy: 0.9778 - val_loss: 0.0857 - val_accuracy: 0.9740 - 948ms/epoch - 5ms/step\n",
            "Epoch 14/30\n",
            "188/188 - 1s - loss: 0.0697 - accuracy: 0.9789 - val_loss: 0.0865 - val_accuracy: 0.9738 - 1s/epoch - 6ms/step\n",
            "Epoch 15/30\n",
            "188/188 - 1s - loss: 0.0667 - accuracy: 0.9795 - val_loss: 0.0876 - val_accuracy: 0.9734 - 973ms/epoch - 5ms/step\n",
            "Epoch 16/30\n",
            "188/188 - 1s - loss: 0.0645 - accuracy: 0.9804 - val_loss: 0.0806 - val_accuracy: 0.9759 - 786ms/epoch - 4ms/step\n",
            "Epoch 17/30\n",
            "188/188 - 1s - loss: 0.0633 - accuracy: 0.9802 - val_loss: 0.0795 - val_accuracy: 0.9765 - 814ms/epoch - 4ms/step\n",
            "Epoch 18/30\n",
            "188/188 - 1s - loss: 0.0606 - accuracy: 0.9811 - val_loss: 0.0777 - val_accuracy: 0.9777 - 818ms/epoch - 4ms/step\n",
            "Epoch 19/30\n",
            "188/188 - 1s - loss: 0.0591 - accuracy: 0.9817 - val_loss: 0.0763 - val_accuracy: 0.9764 - 807ms/epoch - 4ms/step\n",
            "Epoch 20/30\n",
            "188/188 - 1s - loss: 0.0560 - accuracy: 0.9830 - val_loss: 0.0755 - val_accuracy: 0.9774 - 825ms/epoch - 4ms/step\n",
            "Epoch 21/30\n",
            "188/188 - 1s - loss: 0.0545 - accuracy: 0.9834 - val_loss: 0.0759 - val_accuracy: 0.9774 - 793ms/epoch - 4ms/step\n",
            "Epoch 22/30\n",
            "188/188 - 1s - loss: 0.0542 - accuracy: 0.9831 - val_loss: 0.0732 - val_accuracy: 0.9782 - 823ms/epoch - 4ms/step\n",
            "Epoch 23/30\n",
            "188/188 - 1s - loss: 0.0531 - accuracy: 0.9838 - val_loss: 0.0732 - val_accuracy: 0.9786 - 834ms/epoch - 4ms/step\n",
            "Epoch 24/30\n",
            "188/188 - 1s - loss: 0.0509 - accuracy: 0.9837 - val_loss: 0.0715 - val_accuracy: 0.9794 - 808ms/epoch - 4ms/step\n",
            "Epoch 25/30\n",
            "188/188 - 1s - loss: 0.0493 - accuracy: 0.9851 - val_loss: 0.0672 - val_accuracy: 0.9806 - 774ms/epoch - 4ms/step\n",
            "Epoch 26/30\n",
            "188/188 - 1s - loss: 0.0492 - accuracy: 0.9849 - val_loss: 0.0737 - val_accuracy: 0.9787 - 784ms/epoch - 4ms/step\n",
            "Epoch 27/30\n",
            "188/188 - 1s - loss: 0.0479 - accuracy: 0.9853 - val_loss: 0.0671 - val_accuracy: 0.9805 - 979ms/epoch - 5ms/step\n",
            "Epoch 28/30\n",
            "188/188 - 1s - loss: 0.0461 - accuracy: 0.9858 - val_loss: 0.0683 - val_accuracy: 0.9792 - 1s/epoch - 6ms/step\n",
            "Epoch 29/30\n",
            "188/188 - 1s - loss: 0.0458 - accuracy: 0.9859 - val_loss: 0.0677 - val_accuracy: 0.9803 - 996ms/epoch - 5ms/step\n",
            "Epoch 30/30\n",
            "188/188 - 1s - loss: 0.0441 - accuracy: 0.9866 - val_loss: 0.0698 - val_accuracy: 0.9794 - 776ms/epoch - 4ms/step\n"
          ]
        }
      ]
    },
    {
      "cell_type": "code",
      "source": [
        "plt.xlabel(\"Épocas'\")\n",
        "plt.ylabel(\"Loss\")\n",
        "plt.plot(history.history['loss'], label=\"Treino\")\n",
        "plt.plot(history.history['val_loss'], label=\"Val\")\n",
        "plt.legend()\n",
        "plt.show()"
      ],
      "metadata": {
        "colab": {
          "base_uri": "https://localhost:8080/",
          "height": 451
        },
        "id": "Ka4ircpJSvOf",
        "outputId": "bd2906b5-c13c-48c8-f62f-017daa416549"
      },
      "execution_count": 88,
      "outputs": [
        {
          "output_type": "display_data",
          "data": {
            "text/plain": [
              "<Figure size 640x480 with 1 Axes>"
            ],
            "image/png": "[encoded data removed]"
          },
          "metadata": {}
        }
      ]
    },
    {
      "cell_type": "code",
      "source": [
        "# Model Evaluation - Test data\n",
        "print(\"Model Evaluation (Test)\")\n",
        "results = mod34.evaluate(x_test, y_test, batch_size=1000)\n",
        "print(\"Test loss, Test acc:\", results)\n"
      ],
      "metadata": {
        "colab": {
          "base_uri": "https://localhost:8080/"
        },
        "id": "mqpzcZqTSvaV",
        "outputId": "c67a5186-e3be-4992-83a6-81e8073916ac"
      },
      "execution_count": 89,
      "outputs": [
        {
          "output_type": "stream",
          "name": "stdout",
          "text": [
            "Model Evaluation (Test)\n",
            "10/10 [==============================] - 0s 5ms/step - loss: 0.0524 - accuracy: 0.9834\n",
            "Test loss, Test acc: [0.05236394703388214, 0.9833999872207642]\n"
          ]
        }
      ]
    },
    {
      "cell_type": "code",
      "source": [
        "model_l.append('K_5x5_3_C_5_10')\n",
        "test_loss_l.append(results[0])\n",
        "test_acc_l.append(results[1])\n",
        "params_l.append(mod34.count_params())"
      ],
      "metadata": {
        "id": "cNDJxu2PS52D"
      },
      "execution_count": 90,
      "outputs": []
    },
    {
      "cell_type": "markdown",
      "source": [
        "# 4. Summary"
      ],
      "metadata": {
        "id": "37eFen1nSC6J"
      }
    },
    {
      "cell_type": "code",
      "source": [
        "summary_df = pd\n",
        "summary_df = pd.DataFrame(model_l, columns=['model'])\n",
        "summary_df['test_loss'] = test_loss_l\n",
        "summary_df['test_acc'] = test_acc_l\n",
        "summary_df['params'] = params_l\n"
      ],
      "metadata": {
        "id": "1QyW5TAFVZe7"
      },
      "execution_count": 91,
      "outputs": []
    },
    {
      "cell_type": "code",
      "source": [
        "summary_df"
      ],
      "metadata": {
        "colab": {
          "base_uri": "https://localhost:8080/",
          "height": 174
        },
        "id": "F_XcJwe9VZwF",
        "outputId": "320d4bdb-4b83-4e09-c737-311dd64fb96d"
      },
      "execution_count": 92,
      "outputs": [
        {
          "output_type": "execute_result",
          "data": {
            "text/plain": [
              "             model  test_loss  test_acc  params\n",
              "0   K_3x3_2_C_5_10   0.054012    0.9837    3020\n",
              "1   K_3x3_3_C_5_10   0.119978    0.9623    1530\n",
              "2  K_3x3_3_C_10_20   0.045560    0.9861    6930\n",
              "3   K_5x5_3_C_5_10   0.052364    0.9834    3000"
            ],
            "text/html": [
              "\n",
              "  <div id=\"df-a02d29b4-e8e2-43e2-9db2-9237aaa41230\">\n",
              "    <div class=\"colab-df-container\">\n",
              "      <div>\n",
              "<style scoped>\n",
              "    .dataframe tbody tr th:only-of-type {\n",
              "        vertical-align: middle;\n",
              "    }\n",
              "\n",
              "    .dataframe tbody tr th {\n",
              "        vertical-align: top;\n",
              "    }\n",
              "\n",
              "    .dataframe thead th {\n",
              "        text-align: right;\n",
              "    }\n",
              "</style>\n",
              "<table border=\"1\" class=\"dataframe\">\n",
              "  <thead>\n",
              "    <tr style=\"text-align: right;\">\n",
              "      <th></th>\n",
              "      <th>model</th>\n",
              "      <th>test_loss</th>\n",
              "      <th>test_acc</th>\n",
              "      <th>params</th>\n",
              "    </tr>\n",
              "  </thead>\n",
              "  <tbody>\n",
              "    <tr>\n",
              "      <th>0</th>\n",
              "      <td>K_3x3_2_C_5_10</td>\n",
              "      <td>0.054012</td>\n",
              "      <td>0.9837</td>\n",
              "      <td>3020</td>\n",
              "    </tr>\n",
              "    <tr>\n",
              "      <th>1</th>\n",
              "      <td>K_3x3_3_C_5_10</td>\n",
              "      <td>0.119978</td>\n",
              "      <td>0.9623</td>\n",
              "      <td>1530</td>\n",
              "    </tr>\n",
              "    <tr>\n",
              "      <th>2</th>\n",
              "      <td>K_3x3_3_C_10_20</td>\n",
              "      <td>0.045560</td>\n",
              "      <td>0.9861</td>\n",
              "      <td>6930</td>\n",
              "    </tr>\n",
              "    <tr>\n",
              "      <th>3</th>\n",
              "      <td>K_5x5_3_C_5_10</td>\n",
              "      <td>0.052364</td>\n",
              "      <td>0.9834</td>\n",
              "      <td>3000</td>\n",
              "    </tr>\n",
              "  </tbody>\n",
              "</table>\n",
              "</div>\n",
              "      <button class=\"colab-df-convert\" onclick=\"convertToInteractive('df-a02d29b4-e8e2-43e2-9db2-9237aaa41230')\"\n",
              "              title=\"Convert this dataframe to an interactive table.\"\n",
              "              style=\"display:none;\">\n",
              "        \n",
              "  <svg xmlns=\"http://www.w3.org/2000/svg\" height=\"24px\"viewBox=\"0 0 24 24\"\n",
              "       width=\"24px\">\n",
              "    <path d=\"M0 0h24v24H0V0z\" fill=\"none\"/>\n",
              "    <path d=\"M18.56 5.44l.94 2.06.94-2.06 2.06-.94-2.06-.94-.94-2.06-.94 2.06-2.06.94zm-11 1L8.5 8.5l.94-2.06 2.06-.94-2.06-.94L8.5 2.5l-.94 2.06-2.06.94zm10 10l.94 2.06.94-2.06 2.06-.94-2.06-.94-.94-2.06-.94 2.06-2.06.94z\"/><path d=\"M17.41 7.96l-1.37-1.37c-.4-.4-.92-.59-1.43-.59-.52 0-1.04.2-1.43.59L10.3 9.45l-7.72 7.72c-.78.78-.78 2.05 0 2.83L4 21.41c.39.39.9.59 1.41.59.51 0 1.02-.2 1.41-.59l7.78-7.78 2.81-2.81c.8-.78.8-2.07 0-2.86zM5.41 20L4 18.59l7.72-7.72 1.47 1.35L5.41 20z\"/>\n",
              "  </svg>\n",
              "      </button>\n",
              "      \n",
              "  <style>\n",
              "    .colab-df-container {\n",
              "      display:flex;\n",
              "      flex-wrap:wrap;\n",
              "      gap: 12px;\n",
              "    }\n",
              "\n",
              "    .colab-df-convert {\n",
              "      background-color: #E8F0FE;\n",
              "      border: none;\n",
              "      border-radius: 50%;\n",
              "      cursor: pointer;\n",
              "      display: none;\n",
              "      fill: #1967D2;\n",
              "      height: 32px;\n",
              "      padding: 0 0 0 0;\n",
              "      width: 32px;\n",
              "    }\n",
              "\n",
              "    .colab-df-convert:hover {\n",
              "      background-color: #E2EBFA;\n",
              "      box-shadow: 0px 1px 2px rgba(60, 64, 67, 0.3), 0px 1px 3px 1px rgba(60, 64, 67, 0.15);\n",
              "      fill: #174EA6;\n",
              "    }\n",
              "\n",
              "    [theme=dark] .colab-df-convert {\n",
              "      background-color: #3B4455;\n",
              "      fill: #D2E3FC;\n",
              "    }\n",
              "\n",
              "    [theme=dark] .colab-df-convert:hover {\n",
              "      background-color: #434B5C;\n",
              "      box-shadow: 0px 1px 3px 1px rgba(0, 0, 0, 0.15);\n",
              "      filter: drop-shadow(0px 1px 2px rgba(0, 0, 0, 0.3));\n",
              "      fill: #FFFFFF;\n",
              "    }\n",
              "  </style>\n",
              "\n",
              "      <script>\n",
              "        const buttonEl =\n",
              "          document.querySelector('#df-a02d29b4-e8e2-43e2-9db2-9237aaa41230 button.colab-df-convert');\n",
              "        buttonEl.style.display =\n",
              "          google.colab.kernel.accessAllowed ? 'block' : 'none';\n",
              "\n",
              "        async function convertToInteractive(key) {\n",
              "          const element = document.querySelector('#df-a02d29b4-e8e2-43e2-9db2-9237aaa41230');\n",
              "          const dataTable =\n",
              "            await google.colab.kernel.invokeFunction('convertToInteractive',\n",
              "                                                     [key], {});\n",
              "          if (!dataTable) return;\n",
              "\n",
              "          const docLinkHtml = 'Like what you see? Visit the ' +\n",
              "            '<a target=\"_blank\" href=https://colab.research.google.com/notebooks/data_table.ipynb>data table notebook</a>'\n",
              "            + ' to learn more about interactive tables.';\n",
              "          element.innerHTML = '';\n",
              "          dataTable['output_type'] = 'display_data';\n",
              "          await google.colab.output.renderOutput(dataTable, element);\n",
              "          const docLink = document.createElement('div');\n",
              "          docLink.innerHTML = docLinkHtml;\n",
              "          element.appendChild(docLink);\n",
              "        }\n",
              "      </script>\n",
              "    </div>\n",
              "  </div>\n",
              "  "
            ]
          },
          "metadata": {},
          "execution_count": 92
        }
      ]
    }
  ],
  "metadata": {
    "accelerator": "GPU",
    "colab": {
      "provenance": [],
      "toc_visible": true,
      "include_colab_link": true
    },
    "gpuClass": "standard",
    "kernelspec": {
      "display_name": "Python 3",
      "name": "python3"
    },
    "language_info": {
      "name": "python"
    }
  },
  "nbformat": 4,
  "nbformat_minor": 0
}