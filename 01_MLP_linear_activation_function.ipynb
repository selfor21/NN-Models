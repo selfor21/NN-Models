{
  "cells": [
    {
      "cell_type": "markdown",
      "metadata": {
        "id": "view-in-github",
        "colab_type": "text"
      },
      "source": [
        "<a href=\"https://colab.research.google.com/github/selfor21/NN-Models/blob/main/01_MLP_linear_activation_function.ipynb\" target=\"_parent\"><img src=\"https://colab.research.google.com/assets/colab-badge.svg\" alt=\"Open In Colab\"/></a>"
      ]
    },
    {
      "cell_type": "markdown",
      "metadata": {
        "id": "ikxZW8AllWK6"
      },
      "source": [
        "# NEURAL NETWORK\n",
        "\n",
        "## MLP with different activaction function\n",
        "\n",
        "\n",
        "- Carregamento dos pacotes necessários\n",
        "- Carregamento dos dados (MNIST)\n",
        "- Desenvolvimento de um modelo MLP\n"
      ]
    },
    {
      "cell_type": "markdown",
      "metadata": {
        "id": "RLcCjipXla_K"
      },
      "source": [
        "# 1\\. Libraries"
      ]
    },
    {
      "cell_type": "code",
      "execution_count": null,
      "metadata": {
        "colab": {
          "base_uri": "https://localhost:8080/"
        },
        "id": "Zo2guFZtmNCI",
        "outputId": "ed4ad3b3-687e-4f45-8706-d649a2049427"
      },
      "outputs": [
        {
          "output_type": "stream",
          "name": "stdout",
          "text": [
            "2.12.0\n"
          ]
        }
      ],
      "source": [
        "import tensorflow as tf\n",
        "from tensorflow import keras\n",
        "from tensorflow.keras import layers\n",
        "from tensorflow.keras import Model\n",
        "import keras.datasets as kds\n",
        "\n",
        "import pandas as pd\n",
        "import numpy as np\n",
        "import matplotlib.pyplot as plt\n",
        "from matplotlib.image import imread\n",
        "\n",
        "print(tf.__version__)"
      ]
    },
    {
      "cell_type": "code",
      "source": [
        "test_loss_l = []\n",
        "test_acc_l = []\n",
        "activation_l = []\n",
        "history_l = []"
      ],
      "metadata": {
        "id": "l41SuScuRGyV"
      },
      "execution_count": null,
      "outputs": []
    },
    {
      "cell_type": "markdown",
      "metadata": {
        "id": "crg4eS_UrgV_"
      },
      "source": [
        "# 2\\. Dataset MINIST"
      ]
    },
    {
      "cell_type": "markdown",
      "metadata": {
        "id": "QgKHcl8Cp5jT"
      },
      "source": [
        "### Public Dataset with 70000 examples (60K Train / 10K Test)\n",
        "\n",
        "<img src=\"https://upload.wikimedia.org/wikipedia/commons/2/27/MnistExamples.png\">\n",
        "\n",
        "Ver: http://yann.lecun.com/exdb/mnist/"
      ]
    },
    {
      "cell_type": "markdown",
      "metadata": {
        "id": "gN2ItdNyri97"
      },
      "source": [
        "## Data load and preparation"
      ]
    },
    {
      "cell_type": "code",
      "execution_count": null,
      "metadata": {
        "id": "DpXok59srmb6"
      },
      "outputs": [],
      "source": [
        "input_shape = (28, 28, 1)\n",
        "\n",
        "# Keras.datasets\n",
        "(x_train, y_train), (x_test, y_test) = kds.mnist.load_data()\n",
        "\n",
        "# Features Normalization\n",
        "x_train = x_train.astype(\"float32\") / 255\n",
        "x_test = x_test.astype(\"float32\") / 255\n",
        "\n",
        "# One-hot-encoding class convertion\n",
        "num_classes = len(np.unique(y_train))\n",
        "\n",
        "y_train = keras.utils.to_categorical(y_train, num_classes)\n",
        "y_test = keras.utils.to_categorical(y_test, num_classes)\n"
      ]
    },
    {
      "cell_type": "code",
      "execution_count": null,
      "metadata": {
        "colab": {
          "base_uri": "https://localhost:8080/",
          "height": 170
        },
        "id": "zHsCsLoJtGt6",
        "outputId": "01005888-6fe7-4e6c-dcbb-6cf21ccf287a"
      },
      "outputs": [
        {
          "output_type": "display_data",
          "data": {
            "text/plain": [
              "<Figure size 1000x800 with 5 Axes>"
            ],
            "image/png": "[encoded data removed]"
          },
          "metadata": {}
        }
      ],
      "source": [
        "plt.figure(figsize=(10, 8))\n",
        "for i in range(5):\n",
        "    ax = plt.subplot(1, 5, i + 1)\n",
        "    plt.imshow(x_test[i].reshape(28, 28))\n",
        "    plt.gray()\n",
        "    ax.get_xaxis().set_visible(False)\n",
        "    ax.get_yaxis().set_visible(False)\n",
        "plt.show()"
      ]
    },
    {
      "cell_type": "markdown",
      "source": [
        "# 3\\. Modelos"
      ],
      "metadata": {
        "id": "rJRW8b-A0n4V"
      }
    },
    {
      "cell_type": "markdown",
      "metadata": {
        "id": "jOrw91Exl6ky"
      },
      "source": [
        "## 3.1\\. - MLP - 'softmax' activation"
      ]
    },
    {
      "cell_type": "code",
      "execution_count": null,
      "metadata": {
        "colab": {
          "base_uri": "https://localhost:8080/"
        },
        "id": "szxE_10mtYDq",
        "outputId": "1ce21519-bd08-4d52-849e-1e48379d0952"
      },
      "outputs": [
        {
          "output_type": "stream",
          "name": "stdout",
          "text": [
            "Model: \"sequential_13\"\n",
            "_________________________________________________________________\n",
            " Layer (type)                Output Shape              Param #   \n",
            "=================================================================\n",
            " flatten_13 (Flatten)        (None, 784)               0         \n",
            "                                                                 \n",
            " dense_13 (Dense)            (None, 10)                7850      \n",
            "                                                                 \n",
            "=================================================================\n",
            "Total params: 7,850\n",
            "Trainable params: 7,850\n",
            "Non-trainable params: 0\n",
            "_________________________________________________________________\n"
          ]
        }
      ],
      "source": [
        "# Linear Model Linear (without hidden rows)\n",
        "modelo1 = keras.Sequential()\n",
        "modelo1.add(keras.layers.Flatten(input_shape=input_shape))\n",
        "modelo1.add(keras.layers.Dense(units=10, activation=\"softmax\"))\n",
        "\n",
        "modelo1.summary()"
      ]
    },
    {
      "cell_type": "code",
      "source": [
        "#Network Graph\n",
        "tf.keras.utils.plot_model(modelo1, show_shapes=True)"
      ],
      "metadata": {
        "colab": {
          "base_uri": "https://localhost:8080/",
          "height": 312
        },
        "id": "du5jeBl0815G",
        "outputId": "c022018c-fe5f-46a0-d07f-da1a80c0a9e0"
      },
      "execution_count": null,
      "outputs": [
        {
          "output_type": "execute_result",
          "data": {
            "image/png": "[encoded data removed]",
            "text/plain": [
              "<IPython.core.display.Image object>"
            ]
          },
          "metadata": {},
          "execution_count": 117
        }
      ]
    },
    {
      "cell_type": "code",
      "execution_count": null,
      "metadata": {
        "id": "26wAFKw-toui",
        "colab": {
          "base_uri": "https://localhost:8080/"
        },
        "outputId": "af2875e9-8564-4c9f-fb04-ae4510530f9e"
      },
      "outputs": [
        {
          "output_type": "stream",
          "name": "stdout",
          "text": [
            "Epoch 1/30\n",
            "188/188 - 1s - loss: 0.9529 - accuracy: 0.7673 - val_loss: 0.5162 - val_accuracy: 0.8772 - 1s/epoch - 7ms/step\n",
            "Epoch 2/30\n",
            "188/188 - 1s - loss: 0.4738 - accuracy: 0.8806 - val_loss: 0.3925 - val_accuracy: 0.8995 - 606ms/epoch - 3ms/step\n",
            "Epoch 3/30\n",
            "188/188 - 1s - loss: 0.3918 - accuracy: 0.8969 - val_loss: 0.3481 - val_accuracy: 0.9070 - 618ms/epoch - 3ms/step\n",
            "Epoch 4/30\n",
            "188/188 - 1s - loss: 0.3547 - accuracy: 0.9050 - val_loss: 0.3240 - val_accuracy: 0.9137 - 622ms/epoch - 3ms/step\n",
            "Epoch 5/30\n",
            "188/188 - 1s - loss: 0.3321 - accuracy: 0.9090 - val_loss: 0.3098 - val_accuracy: 0.9163 - 567ms/epoch - 3ms/step\n",
            "Epoch 6/30\n",
            "188/188 - 1s - loss: 0.3174 - accuracy: 0.9128 - val_loss: 0.2992 - val_accuracy: 0.9176 - 672ms/epoch - 4ms/step\n",
            "Epoch 7/30\n",
            "188/188 - 2s - loss: 0.3065 - accuracy: 0.9152 - val_loss: 0.2909 - val_accuracy: 0.9198 - 2s/epoch - 11ms/step\n",
            "Epoch 8/30\n",
            "188/188 - 2s - loss: 0.2983 - accuracy: 0.9175 - val_loss: 0.2858 - val_accuracy: 0.9218 - 2s/epoch - 9ms/step\n",
            "Epoch 9/30\n",
            "188/188 - 1s - loss: 0.2917 - accuracy: 0.9198 - val_loss: 0.2816 - val_accuracy: 0.9227 - 1s/epoch - 6ms/step\n",
            "Epoch 10/30\n",
            "188/188 - 1s - loss: 0.2864 - accuracy: 0.9201 - val_loss: 0.2775 - val_accuracy: 0.9230 - 1s/epoch - 7ms/step\n",
            "Epoch 11/30\n",
            "188/188 - 1s - loss: 0.2820 - accuracy: 0.9217 - val_loss: 0.2763 - val_accuracy: 0.9242 - 999ms/epoch - 5ms/step\n",
            "Epoch 12/30\n",
            "188/188 - 1s - loss: 0.2779 - accuracy: 0.9225 - val_loss: 0.2721 - val_accuracy: 0.9255 - 602ms/epoch - 3ms/step\n",
            "Epoch 13/30\n",
            "188/188 - 1s - loss: 0.2749 - accuracy: 0.9232 - val_loss: 0.2699 - val_accuracy: 0.9262 - 600ms/epoch - 3ms/step\n",
            "Epoch 14/30\n",
            "188/188 - 1s - loss: 0.2719 - accuracy: 0.9240 - val_loss: 0.2694 - val_accuracy: 0.9261 - 563ms/epoch - 3ms/step\n",
            "Epoch 15/30\n",
            "188/188 - 1s - loss: 0.2693 - accuracy: 0.9247 - val_loss: 0.2680 - val_accuracy: 0.9273 - 603ms/epoch - 3ms/step\n",
            "Epoch 16/30\n",
            "188/188 - 1s - loss: 0.2673 - accuracy: 0.9257 - val_loss: 0.2657 - val_accuracy: 0.9277 - 553ms/epoch - 3ms/step\n",
            "Epoch 17/30\n",
            "188/188 - 1s - loss: 0.2649 - accuracy: 0.9260 - val_loss: 0.2654 - val_accuracy: 0.9285 - 600ms/epoch - 3ms/step\n",
            "Epoch 18/30\n",
            "188/188 - 1s - loss: 0.2633 - accuracy: 0.9264 - val_loss: 0.2638 - val_accuracy: 0.9288 - 559ms/epoch - 3ms/step\n",
            "Epoch 19/30\n",
            "188/188 - 1s - loss: 0.2611 - accuracy: 0.9266 - val_loss: 0.2653 - val_accuracy: 0.9270 - 601ms/epoch - 3ms/step\n",
            "Epoch 20/30\n",
            "188/188 - 1s - loss: 0.2596 - accuracy: 0.9275 - val_loss: 0.2620 - val_accuracy: 0.9299 - 609ms/epoch - 3ms/step\n",
            "Epoch 21/30\n",
            "188/188 - 1s - loss: 0.2582 - accuracy: 0.9284 - val_loss: 0.2624 - val_accuracy: 0.9286 - 778ms/epoch - 4ms/step\n",
            "Epoch 22/30\n",
            "188/188 - 1s - loss: 0.2569 - accuracy: 0.9283 - val_loss: 0.2616 - val_accuracy: 0.9293 - 809ms/epoch - 4ms/step\n",
            "Epoch 23/30\n",
            "188/188 - 1s - loss: 0.2558 - accuracy: 0.9286 - val_loss: 0.2612 - val_accuracy: 0.9298 - 1s/epoch - 7ms/step\n",
            "Epoch 24/30\n",
            "188/188 - 1s - loss: 0.2545 - accuracy: 0.9288 - val_loss: 0.2608 - val_accuracy: 0.9295 - 592ms/epoch - 3ms/step\n",
            "Epoch 25/30\n",
            "188/188 - 1s - loss: 0.2533 - accuracy: 0.9295 - val_loss: 0.2603 - val_accuracy: 0.9300 - 602ms/epoch - 3ms/step\n",
            "Epoch 26/30\n",
            "188/188 - 1s - loss: 0.2520 - accuracy: 0.9298 - val_loss: 0.2609 - val_accuracy: 0.9284 - 616ms/epoch - 3ms/step\n",
            "Epoch 27/30\n",
            "188/188 - 1s - loss: 0.2514 - accuracy: 0.9296 - val_loss: 0.2597 - val_accuracy: 0.9300 - 614ms/epoch - 3ms/step\n",
            "Epoch 28/30\n",
            "188/188 - 1s - loss: 0.2505 - accuracy: 0.9303 - val_loss: 0.2598 - val_accuracy: 0.9303 - 571ms/epoch - 3ms/step\n",
            "Epoch 29/30\n",
            "188/188 - 1s - loss: 0.2492 - accuracy: 0.9304 - val_loss: 0.2586 - val_accuracy: 0.9316 - 562ms/epoch - 3ms/step\n",
            "Epoch 30/30\n",
            "188/188 - 1s - loss: 0.2483 - accuracy: 0.9308 - val_loss: 0.2584 - val_accuracy: 0.9302 - 573ms/epoch - 3ms/step\n"
          ]
        }
      ],
      "source": [
        "modelo1.compile(loss=\"categorical_crossentropy\", optimizer=\"adam\", metrics=[\"accuracy\"])\n",
        "\n",
        "#training\n",
        "history = modelo1.fit(x_train, y_train, batch_size=256, epochs=30, validation_split=0.2, verbose=2)"
      ]
    },
    {
      "cell_type": "code",
      "execution_count": null,
      "metadata": {
        "colab": {
          "base_uri": "https://localhost:8080/",
          "height": 451
        },
        "id": "Xp4e2VYsuL5h",
        "outputId": "a4ffd528-1305-4fb2-a31e-fd6e374dcf19"
      },
      "outputs": [
        {
          "output_type": "display_data",
          "data": {
            "text/plain": [
              "<Figure size 640x480 with 1 Axes>"
            ],
            "image/png": "[encoded data removed]"
          },
          "metadata": {}
        }
      ],
      "source": [
        "plt.xlabel(\"Épocas'\")\n",
        "plt.ylabel(\"Loss\")\n",
        "plt.plot(history.history['loss'], label=\"Treino\")\n",
        "plt.plot(history.history['val_loss'], label=\"Val\")\n",
        "plt.legend()\n",
        "plt.show()"
      ]
    },
    {
      "cell_type": "code",
      "execution_count": null,
      "metadata": {
        "colab": {
          "base_uri": "https://localhost:8080/"
        },
        "id": "dwblTBFRucBK",
        "outputId": "48f036d5-b6bf-4ac2-8f4a-c3682d5fbef8"
      },
      "outputs": [
        {
          "output_type": "stream",
          "name": "stdout",
          "text": [
            "Avaliação do modelo (Teste)\n",
            "10/10 [==============================] - 0s 5ms/step - loss: 0.2637 - accuracy: 0.9273\n",
            "Test loss, Test acc: [0.2637331187725067, 0.927299976348877]\n"
          ]
        }
      ],
      "source": [
        "# Model Avaliation with test data\n",
        "print(\"Avaliação do modelo (Teste)\")\n",
        "results1 = modelo1.evaluate(x_test, y_test, batch_size=1000)\n",
        "print(\"Test loss, Test acc:\", results1)\n"
      ]
    },
    {
      "cell_type": "code",
      "source": [
        "activation_l.append('softmax')\n",
        "test_loss_l.append(results1[0])\n",
        "test_acc_l.append(results1[1])"
      ],
      "metadata": {
        "id": "11ipDhRbRV6C"
      },
      "execution_count": null,
      "outputs": []
    },
    {
      "cell_type": "markdown",
      "source": [],
      "metadata": {
        "id": "AnUAt6gvzQgD"
      }
    },
    {
      "cell_type": "markdown",
      "metadata": {
        "id": "e4gIc4Q0zURi"
      },
      "source": [
        "## 3.2\\. - MLP - 'sigmoid' activation"
      ]
    },
    {
      "cell_type": "code",
      "source": [
        "modelo12 = keras.Sequential()\n",
        "modelo12.add(keras.layers.Flatten(input_shape=input_shape))\n",
        "modelo12.add(keras.layers.Dense(units=10, activation=\"sigmoid\"))\n"
      ],
      "metadata": {
        "id": "rA0ToWZHzfPE"
      },
      "execution_count": null,
      "outputs": []
    },
    {
      "cell_type": "code",
      "source": [
        "modelo12.compile(loss=\"categorical_crossentropy\", optimizer=\"adam\", metrics=[\"accuracy\"])\n",
        "\n",
        "#training\n",
        "history = modelo12.fit(x_train, y_train, batch_size=256, epochs=30, validation_split=0.2, verbose=2)"
      ],
      "metadata": {
        "colab": {
          "base_uri": "https://localhost:8080/"
        },
        "id": "TdaxOFO2zfSJ",
        "outputId": "547d4c45-e2e8-4dd4-8edc-daf99ff56b6f"
      },
      "execution_count": null,
      "outputs": [
        {
          "output_type": "stream",
          "name": "stdout",
          "text": [
            "Epoch 1/30\n",
            "188/188 - 1s - loss: 0.9571 - accuracy: 0.7699 - val_loss: 0.5138 - val_accuracy: 0.8791 - 1s/epoch - 7ms/step\n",
            "Epoch 2/30\n",
            "188/188 - 1s - loss: 0.4716 - accuracy: 0.8807 - val_loss: 0.3914 - val_accuracy: 0.8997 - 595ms/epoch - 3ms/step\n",
            "Epoch 3/30\n",
            "188/188 - 1s - loss: 0.3901 - accuracy: 0.8958 - val_loss: 0.3464 - val_accuracy: 0.9093 - 605ms/epoch - 3ms/step\n",
            "Epoch 4/30\n",
            "188/188 - 1s - loss: 0.3531 - accuracy: 0.9041 - val_loss: 0.3237 - val_accuracy: 0.9123 - 586ms/epoch - 3ms/step\n",
            "Epoch 5/30\n",
            "188/188 - 1s - loss: 0.3315 - accuracy: 0.9099 - val_loss: 0.3098 - val_accuracy: 0.9164 - 614ms/epoch - 3ms/step\n",
            "Epoch 6/30\n",
            "188/188 - 1s - loss: 0.3168 - accuracy: 0.9129 - val_loss: 0.2982 - val_accuracy: 0.9187 - 610ms/epoch - 3ms/step\n",
            "Epoch 7/30\n",
            "188/188 - 1s - loss: 0.3060 - accuracy: 0.9161 - val_loss: 0.2919 - val_accuracy: 0.9182 - 583ms/epoch - 3ms/step\n",
            "Epoch 8/30\n",
            "188/188 - 1s - loss: 0.2981 - accuracy: 0.9179 - val_loss: 0.2860 - val_accuracy: 0.9212 - 603ms/epoch - 3ms/step\n",
            "Epoch 9/30\n",
            "188/188 - 1s - loss: 0.2914 - accuracy: 0.9189 - val_loss: 0.2818 - val_accuracy: 0.9221 - 607ms/epoch - 3ms/step\n",
            "Epoch 10/30\n",
            "188/188 - 1s - loss: 0.2862 - accuracy: 0.9207 - val_loss: 0.2775 - val_accuracy: 0.9229 - 817ms/epoch - 4ms/step\n",
            "Epoch 11/30\n",
            "188/188 - 1s - loss: 0.2819 - accuracy: 0.9216 - val_loss: 0.2763 - val_accuracy: 0.9231 - 826ms/epoch - 4ms/step\n",
            "Epoch 12/30\n",
            "188/188 - 1s - loss: 0.2782 - accuracy: 0.9219 - val_loss: 0.2724 - val_accuracy: 0.9246 - 799ms/epoch - 4ms/step\n",
            "Epoch 13/30\n",
            "188/188 - 1s - loss: 0.2751 - accuracy: 0.9231 - val_loss: 0.2719 - val_accuracy: 0.9245 - 598ms/epoch - 3ms/step\n",
            "Epoch 14/30\n",
            "188/188 - 1s - loss: 0.2719 - accuracy: 0.9242 - val_loss: 0.2698 - val_accuracy: 0.9260 - 570ms/epoch - 3ms/step\n",
            "Epoch 15/30\n",
            "188/188 - 1s - loss: 0.2693 - accuracy: 0.9245 - val_loss: 0.2688 - val_accuracy: 0.9257 - 556ms/epoch - 3ms/step\n",
            "Epoch 16/30\n",
            "188/188 - 1s - loss: 0.2670 - accuracy: 0.9252 - val_loss: 0.2663 - val_accuracy: 0.9270 - 563ms/epoch - 3ms/step\n",
            "Epoch 17/30\n",
            "188/188 - 1s - loss: 0.2650 - accuracy: 0.9262 - val_loss: 0.2653 - val_accuracy: 0.9274 - 581ms/epoch - 3ms/step\n",
            "Epoch 18/30\n",
            "188/188 - 1s - loss: 0.2630 - accuracy: 0.9268 - val_loss: 0.2647 - val_accuracy: 0.9273 - 593ms/epoch - 3ms/step\n",
            "Epoch 19/30\n",
            "188/188 - 1s - loss: 0.2617 - accuracy: 0.9266 - val_loss: 0.2631 - val_accuracy: 0.9282 - 630ms/epoch - 3ms/step\n",
            "Epoch 20/30\n",
            "188/188 - 1s - loss: 0.2599 - accuracy: 0.9277 - val_loss: 0.2636 - val_accuracy: 0.9283 - 552ms/epoch - 3ms/step\n",
            "Epoch 21/30\n",
            "188/188 - 1s - loss: 0.2585 - accuracy: 0.9277 - val_loss: 0.2621 - val_accuracy: 0.9287 - 618ms/epoch - 3ms/step\n",
            "Epoch 22/30\n",
            "188/188 - 1s - loss: 0.2571 - accuracy: 0.9281 - val_loss: 0.2628 - val_accuracy: 0.9276 - 617ms/epoch - 3ms/step\n",
            "Epoch 23/30\n",
            "188/188 - 1s - loss: 0.2556 - accuracy: 0.9284 - val_loss: 0.2610 - val_accuracy: 0.9287 - 563ms/epoch - 3ms/step\n",
            "Epoch 24/30\n",
            "188/188 - 1s - loss: 0.2544 - accuracy: 0.9291 - val_loss: 0.2625 - val_accuracy: 0.9283 - 567ms/epoch - 3ms/step\n",
            "Epoch 25/30\n",
            "188/188 - 1s - loss: 0.2534 - accuracy: 0.9297 - val_loss: 0.2613 - val_accuracy: 0.9286 - 601ms/epoch - 3ms/step\n",
            "Epoch 26/30\n",
            "188/188 - 1s - loss: 0.2522 - accuracy: 0.9302 - val_loss: 0.2618 - val_accuracy: 0.9288 - 594ms/epoch - 3ms/step\n",
            "Epoch 27/30\n",
            "188/188 - 1s - loss: 0.2515 - accuracy: 0.9299 - val_loss: 0.2605 - val_accuracy: 0.9291 - 569ms/epoch - 3ms/step\n",
            "Epoch 28/30\n",
            "188/188 - 1s - loss: 0.2504 - accuracy: 0.9305 - val_loss: 0.2600 - val_accuracy: 0.9297 - 556ms/epoch - 3ms/step\n",
            "Epoch 29/30\n",
            "188/188 - 1s - loss: 0.2494 - accuracy: 0.9308 - val_loss: 0.2593 - val_accuracy: 0.9311 - 860ms/epoch - 5ms/step\n",
            "Epoch 30/30\n",
            "188/188 - 1s - loss: 0.2485 - accuracy: 0.9307 - val_loss: 0.2599 - val_accuracy: 0.9301 - 774ms/epoch - 4ms/step\n"
          ]
        }
      ]
    },
    {
      "cell_type": "code",
      "source": [
        "plt.xlabel(\"Épocas'\")\n",
        "plt.ylabel(\"Loss\")\n",
        "plt.plot(history.history['loss'], label=\"Treino\")\n",
        "plt.plot(history.history['val_loss'], label=\"Val\")\n",
        "plt.legend()\n",
        "plt.show()"
      ],
      "metadata": {
        "colab": {
          "base_uri": "https://localhost:8080/",
          "height": 451
        },
        "id": "6BpCr3B-zfVK",
        "outputId": "8710402f-7b1c-495a-ad6b-32eb2ea52e24"
      },
      "execution_count": null,
      "outputs": [
        {
          "output_type": "display_data",
          "data": {
            "text/plain": [
              "<Figure size 640x480 with 1 Axes>"
            ],
            "image/png": "[encoded data removed]"
          },
          "metadata": {}
        }
      ]
    },
    {
      "cell_type": "code",
      "source": [
        "# Avaliação do modelo treinado no conjunto de teste\n",
        "print(\"Avaliação do modelo (Teste)\")\n",
        "results12 = modelo12.evaluate(x_test, y_test, batch_size=1000)\n",
        "print(\"Test loss, Test acc:\", results12)"
      ],
      "metadata": {
        "colab": {
          "base_uri": "https://localhost:8080/"
        },
        "id": "a6pzBMiuzfX8",
        "outputId": "edd8fea2-90ef-4245-88d1-5bc9a7e1f007"
      },
      "execution_count": null,
      "outputs": [
        {
          "output_type": "stream",
          "name": "stdout",
          "text": [
            "Avaliação do modelo (Teste)\n",
            "10/10 [==============================] - 0s 4ms/step - loss: 0.2647 - accuracy: 0.9258\n",
            "Test loss, Test acc: [0.2646971642971039, 0.9258000254631042]\n"
          ]
        }
      ]
    },
    {
      "cell_type": "code",
      "source": [
        "activation_l.append('sigmoid')\n",
        "test_loss_l.append(results12[0])\n",
        "test_acc_l.append(results12[1])"
      ],
      "metadata": {
        "id": "2pEI0QDyRlG7"
      },
      "execution_count": null,
      "outputs": []
    },
    {
      "cell_type": "markdown",
      "metadata": {
        "id": "ADdQ5hV2zUaW"
      },
      "source": [
        "## 3.3\\. - MLP - 'softplus' activation"
      ]
    },
    {
      "cell_type": "code",
      "source": [
        "modelo13 = keras.Sequential()\n",
        "modelo13.add(keras.layers.Flatten(input_shape=input_shape))\n",
        "modelo13.add(keras.layers.Dense(units=10, activation=\"softplus\"))\n",
        "\n",
        "modelo13.compile(loss=\"categorical_crossentropy\", optimizer=\"adam\", metrics=[\"accuracy\"])\n",
        "history = modelo13.fit(x_train, y_train, batch_size=256, epochs=30, validation_split=0.2, verbose=2)\n"
      ],
      "metadata": {
        "colab": {
          "base_uri": "https://localhost:8080/"
        },
        "id": "a4Fgwnvbzfa7",
        "outputId": "2ffe4854-aead-42af-9634-cbf562e2ffc9"
      },
      "execution_count": null,
      "outputs": [
        {
          "output_type": "stream",
          "name": "stdout",
          "text": [
            "Epoch 1/30\n",
            "188/188 - 2s - loss: 1.0819 - accuracy: 0.7481 - val_loss: 0.5668 - val_accuracy: 0.8759 - 2s/epoch - 10ms/step\n",
            "Epoch 2/30\n",
            "188/188 - 1s - loss: 0.5033 - accuracy: 0.8774 - val_loss: 0.4122 - val_accuracy: 0.8976 - 565ms/epoch - 3ms/step\n",
            "Epoch 3/30\n",
            "188/188 - 1s - loss: 0.4060 - accuracy: 0.8944 - val_loss: 0.3585 - val_accuracy: 0.9085 - 585ms/epoch - 3ms/step\n",
            "Epoch 4/30\n",
            "188/188 - 1s - loss: 0.3633 - accuracy: 0.9034 - val_loss: 0.3315 - val_accuracy: 0.9119 - 547ms/epoch - 3ms/step\n",
            "Epoch 5/30\n",
            "188/188 - 1s - loss: 0.3387 - accuracy: 0.9083 - val_loss: 0.3129 - val_accuracy: 0.9154 - 1s/epoch - 5ms/step\n",
            "Epoch 6/30\n",
            "188/188 - 1s - loss: 0.3218 - accuracy: 0.9126 - val_loss: 0.3038 - val_accuracy: 0.9164 - 680ms/epoch - 4ms/step\n",
            "Epoch 7/30\n",
            "188/188 - 1s - loss: 0.3103 - accuracy: 0.9147 - val_loss: 0.2940 - val_accuracy: 0.9200 - 624ms/epoch - 3ms/step\n",
            "Epoch 8/30\n",
            "188/188 - 1s - loss: 0.3013 - accuracy: 0.9172 - val_loss: 0.2872 - val_accuracy: 0.9214 - 640ms/epoch - 3ms/step\n",
            "Epoch 9/30\n",
            "188/188 - 1s - loss: 0.2943 - accuracy: 0.9185 - val_loss: 0.2839 - val_accuracy: 0.9215 - 579ms/epoch - 3ms/step\n",
            "Epoch 10/30\n",
            "188/188 - 1s - loss: 0.2885 - accuracy: 0.9204 - val_loss: 0.2801 - val_accuracy: 0.9231 - 624ms/epoch - 3ms/step\n",
            "Epoch 11/30\n",
            "188/188 - 1s - loss: 0.2838 - accuracy: 0.9217 - val_loss: 0.2783 - val_accuracy: 0.9240 - 1s/epoch - 6ms/step\n",
            "Epoch 12/30\n",
            "188/188 - 1s - loss: 0.2798 - accuracy: 0.9223 - val_loss: 0.2732 - val_accuracy: 0.9253 - 647ms/epoch - 3ms/step\n",
            "Epoch 13/30\n",
            "188/188 - 1s - loss: 0.2762 - accuracy: 0.9235 - val_loss: 0.2717 - val_accuracy: 0.9257 - 641ms/epoch - 3ms/step\n",
            "Epoch 14/30\n",
            "188/188 - 1s - loss: 0.2728 - accuracy: 0.9239 - val_loss: 0.2698 - val_accuracy: 0.9272 - 619ms/epoch - 3ms/step\n",
            "Epoch 15/30\n",
            "188/188 - 1s - loss: 0.2704 - accuracy: 0.9246 - val_loss: 0.2677 - val_accuracy: 0.9274 - 602ms/epoch - 3ms/step\n",
            "Epoch 16/30\n",
            "188/188 - 1s - loss: 0.2681 - accuracy: 0.9249 - val_loss: 0.2666 - val_accuracy: 0.9283 - 708ms/epoch - 4ms/step\n",
            "Epoch 17/30\n",
            "188/188 - 1s - loss: 0.2660 - accuracy: 0.9261 - val_loss: 0.2658 - val_accuracy: 0.9278 - 817ms/epoch - 4ms/step\n",
            "Epoch 18/30\n",
            "188/188 - 1s - loss: 0.2635 - accuracy: 0.9266 - val_loss: 0.2648 - val_accuracy: 0.9284 - 891ms/epoch - 5ms/step\n",
            "Epoch 19/30\n",
            "188/188 - 1s - loss: 0.2623 - accuracy: 0.9269 - val_loss: 0.2630 - val_accuracy: 0.9289 - 567ms/epoch - 3ms/step\n",
            "Epoch 20/30\n",
            "188/188 - 1s - loss: 0.2604 - accuracy: 0.9280 - val_loss: 0.2634 - val_accuracy: 0.9280 - 629ms/epoch - 3ms/step\n",
            "Epoch 21/30\n",
            "188/188 - 1s - loss: 0.2589 - accuracy: 0.9282 - val_loss: 0.2621 - val_accuracy: 0.9286 - 569ms/epoch - 3ms/step\n",
            "Epoch 22/30\n",
            "188/188 - 1s - loss: 0.2576 - accuracy: 0.9281 - val_loss: 0.2615 - val_accuracy: 0.9299 - 568ms/epoch - 3ms/step\n",
            "Epoch 23/30\n",
            "188/188 - 1s - loss: 0.2560 - accuracy: 0.9289 - val_loss: 0.2603 - val_accuracy: 0.9303 - 553ms/epoch - 3ms/step\n",
            "Epoch 24/30\n",
            "188/188 - 1s - loss: 0.2550 - accuracy: 0.9290 - val_loss: 0.2601 - val_accuracy: 0.9307 - 626ms/epoch - 3ms/step\n",
            "Epoch 25/30\n",
            "188/188 - 1s - loss: 0.2537 - accuracy: 0.9290 - val_loss: 0.2600 - val_accuracy: 0.9302 - 622ms/epoch - 3ms/step\n",
            "Epoch 26/30\n",
            "188/188 - 1s - loss: 0.2524 - accuracy: 0.9304 - val_loss: 0.2603 - val_accuracy: 0.9303 - 634ms/epoch - 3ms/step\n",
            "Epoch 27/30\n",
            "188/188 - 1s - loss: 0.2513 - accuracy: 0.9303 - val_loss: 0.2602 - val_accuracy: 0.9305 - 673ms/epoch - 4ms/step\n",
            "Epoch 28/30\n",
            "188/188 - 1s - loss: 0.2508 - accuracy: 0.9308 - val_loss: 0.2596 - val_accuracy: 0.9307 - 579ms/epoch - 3ms/step\n",
            "Epoch 29/30\n",
            "188/188 - 1s - loss: 0.2495 - accuracy: 0.9308 - val_loss: 0.2586 - val_accuracy: 0.9307 - 638ms/epoch - 3ms/step\n",
            "Epoch 30/30\n",
            "188/188 - 1s - loss: 0.2488 - accuracy: 0.9312 - val_loss: 0.2594 - val_accuracy: 0.9298 - 652ms/epoch - 3ms/step\n"
          ]
        }
      ]
    },
    {
      "cell_type": "code",
      "source": [
        "plt.xlabel(\"Épocas'\")\n",
        "plt.ylabel(\"Loss\")\n",
        "plt.plot(history.history['loss'], label=\"Treino\")\n",
        "plt.plot(history.history['val_loss'], label=\"Val\")\n",
        "plt.legend()\n",
        "plt.show()"
      ],
      "metadata": {
        "colab": {
          "base_uri": "https://localhost:8080/",
          "height": 451
        },
        "id": "dAt5D3TbzfeF",
        "outputId": "2dfb611b-c4d2-49f5-dfb8-3bdeb92b2f7f"
      },
      "execution_count": null,
      "outputs": [
        {
          "output_type": "display_data",
          "data": {
            "text/plain": [
              "<Figure size 640x480 with 1 Axes>"
            ],
            "image/png": "[encoded data removed]"
          },
          "metadata": {}
        }
      ]
    },
    {
      "cell_type": "code",
      "source": [
        "# Avaliação do modelo treinado no conjunto de teste\n",
        "print(\"Avaliação do modelo (Teste)\")\n",
        "results13 = modelo13.evaluate(x_test, y_test, batch_size=1000)\n",
        "print(\"Test loss, Test acc:\", results13)"
      ],
      "metadata": {
        "colab": {
          "base_uri": "https://localhost:8080/"
        },
        "id": "B622_A8uzfgw",
        "outputId": "7882adb0-5007-4bf6-d659-f380cd0ea276"
      },
      "execution_count": null,
      "outputs": [
        {
          "output_type": "stream",
          "name": "stdout",
          "text": [
            "Avaliação do modelo (Teste)\n",
            "10/10 [==============================] - 0s 4ms/step - loss: 0.2639 - accuracy: 0.9271\n",
            "Test loss, Test acc: [0.26389649510383606, 0.9271000027656555]\n"
          ]
        }
      ]
    },
    {
      "cell_type": "code",
      "source": [
        "activation_l.append('softplus')\n",
        "test_loss_l.append(results13[0])\n",
        "test_acc_l.append(results13[1])"
      ],
      "metadata": {
        "id": "kagNgIomRrB3"
      },
      "execution_count": null,
      "outputs": []
    },
    {
      "cell_type": "markdown",
      "metadata": {
        "id": "-PEuMpRyzUgW"
      },
      "source": [
        "## 3.4\\. - MLP - 'relu' activation"
      ]
    },
    {
      "cell_type": "code",
      "source": [
        "modelo14 = keras.Sequential()\n",
        "modelo14.add(keras.layers.Flatten(input_shape=input_shape))\n",
        "modelo14.add(keras.layers.Dense(units=10, activation=\"relu\"))\n",
        "\n",
        "modelo14.compile(loss=\"categorical_crossentropy\", optimizer=\"adam\", metrics=[\"accuracy\"])\n",
        "history = modelo13.fit(x_train, y_train, batch_size=256, epochs=30, validation_split=0.2, verbose=2)"
      ],
      "metadata": {
        "colab": {
          "base_uri": "https://localhost:8080/"
        },
        "id": "C-yfpMsU4sG-",
        "outputId": "4932d418-6c14-4828-97a0-002c9f2686a1"
      },
      "execution_count": null,
      "outputs": [
        {
          "output_type": "stream",
          "name": "stdout",
          "text": [
            "Epoch 1/30\n",
            "188/188 - 1s - loss: 0.2479 - accuracy: 0.9312 - val_loss: 0.2588 - val_accuracy: 0.9308 - 724ms/epoch - 4ms/step\n",
            "Epoch 2/30\n",
            "188/188 - 1s - loss: 0.2469 - accuracy: 0.9315 - val_loss: 0.2593 - val_accuracy: 0.9307 - 580ms/epoch - 3ms/step\n",
            "Epoch 3/30\n",
            "188/188 - 1s - loss: 0.2462 - accuracy: 0.9312 - val_loss: 0.2590 - val_accuracy: 0.9304 - 632ms/epoch - 3ms/step\n",
            "Epoch 4/30\n",
            "188/188 - 1s - loss: 0.2458 - accuracy: 0.9319 - val_loss: 0.2584 - val_accuracy: 0.9319 - 576ms/epoch - 3ms/step\n",
            "Epoch 5/30\n",
            "188/188 - 1s - loss: 0.2448 - accuracy: 0.9314 - val_loss: 0.2593 - val_accuracy: 0.9296 - 565ms/epoch - 3ms/step\n",
            "Epoch 6/30\n",
            "188/188 - 1s - loss: 0.2443 - accuracy: 0.9323 - val_loss: 0.2595 - val_accuracy: 0.9301 - 565ms/epoch - 3ms/step\n",
            "Epoch 7/30\n",
            "188/188 - 1s - loss: 0.2436 - accuracy: 0.9323 - val_loss: 0.2586 - val_accuracy: 0.9317 - 618ms/epoch - 3ms/step\n",
            "Epoch 8/30\n",
            "188/188 - 1s - loss: 0.2430 - accuracy: 0.9326 - val_loss: 0.2579 - val_accuracy: 0.9314 - 566ms/epoch - 3ms/step\n",
            "Epoch 9/30\n",
            "188/188 - 1s - loss: 0.2423 - accuracy: 0.9326 - val_loss: 0.2584 - val_accuracy: 0.9296 - 575ms/epoch - 3ms/step\n",
            "Epoch 10/30\n",
            "188/188 - 1s - loss: 0.2420 - accuracy: 0.9335 - val_loss: 0.2582 - val_accuracy: 0.9298 - 618ms/epoch - 3ms/step\n",
            "Epoch 11/30\n",
            "188/188 - 1s - loss: 0.2412 - accuracy: 0.9333 - val_loss: 0.2582 - val_accuracy: 0.9320 - 579ms/epoch - 3ms/step\n",
            "Epoch 12/30\n",
            "188/188 - 1s - loss: 0.2407 - accuracy: 0.9333 - val_loss: 0.2587 - val_accuracy: 0.9305 - 564ms/epoch - 3ms/step\n",
            "Epoch 13/30\n",
            "188/188 - 1s - loss: 0.2400 - accuracy: 0.9337 - val_loss: 0.2583 - val_accuracy: 0.9317 - 573ms/epoch - 3ms/step\n",
            "Epoch 14/30\n",
            "188/188 - 1s - loss: 0.2397 - accuracy: 0.9337 - val_loss: 0.2582 - val_accuracy: 0.9317 - 580ms/epoch - 3ms/step\n",
            "Epoch 15/30\n",
            "188/188 - 1s - loss: 0.2391 - accuracy: 0.9339 - val_loss: 0.2583 - val_accuracy: 0.9312 - 634ms/epoch - 3ms/step\n",
            "Epoch 16/30\n",
            "188/188 - 1s - loss: 0.2385 - accuracy: 0.9340 - val_loss: 0.2583 - val_accuracy: 0.9319 - 749ms/epoch - 4ms/step\n",
            "Epoch 17/30\n",
            "188/188 - 1s - loss: 0.2378 - accuracy: 0.9341 - val_loss: 0.2603 - val_accuracy: 0.9304 - 861ms/epoch - 5ms/step\n",
            "Epoch 18/30\n",
            "188/188 - 1s - loss: 0.2375 - accuracy: 0.9344 - val_loss: 0.2593 - val_accuracy: 0.9313 - 885ms/epoch - 5ms/step\n",
            "Epoch 19/30\n",
            "188/188 - 1s - loss: 0.2374 - accuracy: 0.9343 - val_loss: 0.2589 - val_accuracy: 0.9307 - 565ms/epoch - 3ms/step\n",
            "Epoch 20/30\n",
            "188/188 - 1s - loss: 0.2370 - accuracy: 0.9344 - val_loss: 0.2594 - val_accuracy: 0.9317 - 566ms/epoch - 3ms/step\n",
            "Epoch 21/30\n",
            "188/188 - 1s - loss: 0.2367 - accuracy: 0.9339 - val_loss: 0.2590 - val_accuracy: 0.9307 - 560ms/epoch - 3ms/step\n",
            "Epoch 22/30\n",
            "188/188 - 1s - loss: 0.2360 - accuracy: 0.9348 - val_loss: 0.2596 - val_accuracy: 0.9309 - 620ms/epoch - 3ms/step\n",
            "Epoch 23/30\n",
            "188/188 - 1s - loss: 0.2359 - accuracy: 0.9348 - val_loss: 0.2598 - val_accuracy: 0.9294 - 627ms/epoch - 3ms/step\n",
            "Epoch 24/30\n",
            "188/188 - 1s - loss: 0.2351 - accuracy: 0.9352 - val_loss: 0.2604 - val_accuracy: 0.9315 - 566ms/epoch - 3ms/step\n",
            "Epoch 25/30\n",
            "188/188 - 1s - loss: 0.2351 - accuracy: 0.9349 - val_loss: 0.2589 - val_accuracy: 0.9316 - 584ms/epoch - 3ms/step\n",
            "Epoch 26/30\n",
            "188/188 - 1s - loss: 0.2350 - accuracy: 0.9348 - val_loss: 0.2598 - val_accuracy: 0.9318 - 592ms/epoch - 3ms/step\n",
            "Epoch 27/30\n",
            "188/188 - 1s - loss: 0.2341 - accuracy: 0.9355 - val_loss: 0.2601 - val_accuracy: 0.9317 - 571ms/epoch - 3ms/step\n",
            "Epoch 28/30\n",
            "188/188 - 1s - loss: 0.2340 - accuracy: 0.9355 - val_loss: 0.2588 - val_accuracy: 0.9321 - 584ms/epoch - 3ms/step\n",
            "Epoch 29/30\n",
            "188/188 - 1s - loss: 0.2335 - accuracy: 0.9355 - val_loss: 0.2601 - val_accuracy: 0.9311 - 624ms/epoch - 3ms/step\n",
            "Epoch 30/30\n",
            "188/188 - 1s - loss: 0.2333 - accuracy: 0.9355 - val_loss: 0.2598 - val_accuracy: 0.9325 - 621ms/epoch - 3ms/step\n"
          ]
        }
      ]
    },
    {
      "cell_type": "code",
      "source": [
        "plt.xlabel(\"Épocas'\")\n",
        "plt.ylabel(\"Loss\")\n",
        "plt.plot(history.history['loss'], label=\"Treino\")\n",
        "plt.plot(history.history['val_loss'], label=\"Val\")\n",
        "plt.legend()\n",
        "plt.show()"
      ],
      "metadata": {
        "colab": {
          "base_uri": "https://localhost:8080/",
          "height": 451
        },
        "id": "WH0e0onR4sKq",
        "outputId": "09a9a75e-08ea-46a2-c27b-af9349220605"
      },
      "execution_count": null,
      "outputs": [
        {
          "output_type": "display_data",
          "data": {
            "text/plain": [
              "<Figure size 640x480 with 1 Axes>"
            ],
            "image/png": "[encoded data removed]"
          },
          "metadata": {}
        }
      ]
    },
    {
      "cell_type": "code",
      "source": [
        "# Avaliação do modelo treinado no conjunto de teste\n",
        "print(\"Avaliação do modelo (Teste)\")\n",
        "results14 = modelo14.evaluate(x_test, y_test, batch_size=1000)\n",
        "print(\"Test loss, Test acc:\", results14)"
      ],
      "metadata": {
        "colab": {
          "base_uri": "https://localhost:8080/"
        },
        "id": "inr4tGhn4sOH",
        "outputId": "4fdbf69b-543e-4a35-bee6-4ae7f6b5c6b4"
      },
      "execution_count": null,
      "outputs": [
        {
          "output_type": "stream",
          "name": "stdout",
          "text": [
            "Avaliação do modelo (Teste)\n",
            "10/10 [==============================] - 0s 3ms/step - loss: nan - accuracy: 0.0950\n",
            "Test loss, Test acc: [nan, 0.0949999988079071]\n"
          ]
        }
      ]
    },
    {
      "cell_type": "code",
      "source": [
        "activation_l.append('relu')\n",
        "test_loss_l.append(results14[0])\n",
        "test_acc_l.append(results14[1])"
      ],
      "metadata": {
        "id": "aagZ-SYxSvSG"
      },
      "execution_count": null,
      "outputs": []
    },
    {
      "cell_type": "markdown",
      "metadata": {
        "id": "Ma03qvUnzUkK"
      },
      "source": [
        "## 3.5\\. - MLP - 'softsign' activation"
      ]
    },
    {
      "cell_type": "code",
      "source": [
        "modelo15 = keras.Sequential()\n",
        "modelo15.add(keras.layers.Flatten(input_shape=input_shape))\n",
        "modelo15.add(keras.layers.Dense(units=10, activation=\"softsign\"))\n",
        "\n",
        "modelo15.compile(loss=\"categorical_crossentropy\", optimizer=\"adam\", metrics=[\"accuracy\"])\n",
        "history = modelo13.fit(x_train, y_train, batch_size=256, epochs=30, validation_split=0.2, verbose=2)"
      ],
      "metadata": {
        "colab": {
          "base_uri": "https://localhost:8080/"
        },
        "id": "RpFV5Cgb5lO7",
        "outputId": "1236063c-f388-41f4-c59a-e802ad3ca248"
      },
      "execution_count": null,
      "outputs": [
        {
          "output_type": "stream",
          "name": "stdout",
          "text": [
            "Epoch 1/30\n",
            "188/188 - 1s - loss: 0.2329 - accuracy: 0.9355 - val_loss: 0.2589 - val_accuracy: 0.9320 - 713ms/epoch - 4ms/step\n",
            "Epoch 2/30\n",
            "188/188 - 1s - loss: 0.2324 - accuracy: 0.9352 - val_loss: 0.2591 - val_accuracy: 0.9321 - 637ms/epoch - 3ms/step\n",
            "Epoch 3/30\n",
            "188/188 - 1s - loss: 0.2324 - accuracy: 0.9355 - val_loss: 0.2593 - val_accuracy: 0.9317 - 618ms/epoch - 3ms/step\n",
            "Epoch 4/30\n",
            "188/188 - 1s - loss: 0.2320 - accuracy: 0.9354 - val_loss: 0.2601 - val_accuracy: 0.9307 - 570ms/epoch - 3ms/step\n",
            "Epoch 5/30\n",
            "188/188 - 1s - loss: 0.2317 - accuracy: 0.9357 - val_loss: 0.2605 - val_accuracy: 0.9308 - 638ms/epoch - 3ms/step\n",
            "Epoch 6/30\n",
            "188/188 - 1s - loss: 0.2315 - accuracy: 0.9364 - val_loss: 0.2614 - val_accuracy: 0.9310 - 624ms/epoch - 3ms/step\n",
            "Epoch 7/30\n",
            "188/188 - 1s - loss: 0.2311 - accuracy: 0.9360 - val_loss: 0.2602 - val_accuracy: 0.9317 - 854ms/epoch - 5ms/step\n",
            "Epoch 8/30\n",
            "188/188 - 1s - loss: 0.2309 - accuracy: 0.9368 - val_loss: 0.2598 - val_accuracy: 0.9312 - 907ms/epoch - 5ms/step\n",
            "Epoch 9/30\n",
            "188/188 - 1s - loss: 0.2304 - accuracy: 0.9364 - val_loss: 0.2611 - val_accuracy: 0.9312 - 823ms/epoch - 4ms/step\n",
            "Epoch 10/30\n",
            "188/188 - 1s - loss: 0.2302 - accuracy: 0.9365 - val_loss: 0.2610 - val_accuracy: 0.9306 - 651ms/epoch - 3ms/step\n",
            "Epoch 11/30\n",
            "188/188 - 1s - loss: 0.2302 - accuracy: 0.9363 - val_loss: 0.2601 - val_accuracy: 0.9308 - 595ms/epoch - 3ms/step\n",
            "Epoch 12/30\n",
            "188/188 - 1s - loss: 0.2297 - accuracy: 0.9365 - val_loss: 0.2621 - val_accuracy: 0.9314 - 591ms/epoch - 3ms/step\n",
            "Epoch 13/30\n",
            "188/188 - 1s - loss: 0.2298 - accuracy: 0.9361 - val_loss: 0.2613 - val_accuracy: 0.9317 - 641ms/epoch - 3ms/step\n",
            "Epoch 14/30\n",
            "188/188 - 1s - loss: 0.2295 - accuracy: 0.9368 - val_loss: 0.2608 - val_accuracy: 0.9317 - 593ms/epoch - 3ms/step\n",
            "Epoch 15/30\n",
            "188/188 - 1s - loss: 0.2297 - accuracy: 0.9364 - val_loss: 0.2608 - val_accuracy: 0.9308 - 606ms/epoch - 3ms/step\n",
            "Epoch 16/30\n",
            "188/188 - 1s - loss: 0.2286 - accuracy: 0.9367 - val_loss: 0.2605 - val_accuracy: 0.9317 - 595ms/epoch - 3ms/step\n",
            "Epoch 17/30\n",
            "188/188 - 1s - loss: 0.2287 - accuracy: 0.9368 - val_loss: 0.2614 - val_accuracy: 0.9308 - 598ms/epoch - 3ms/step\n",
            "Epoch 18/30\n",
            "188/188 - 1s - loss: 0.2283 - accuracy: 0.9369 - val_loss: 0.2619 - val_accuracy: 0.9312 - 635ms/epoch - 3ms/step\n",
            "Epoch 19/30\n",
            "188/188 - 1s - loss: 0.2283 - accuracy: 0.9369 - val_loss: 0.2618 - val_accuracy: 0.9311 - 591ms/epoch - 3ms/step\n",
            "Epoch 20/30\n",
            "188/188 - 1s - loss: 0.2284 - accuracy: 0.9367 - val_loss: 0.2618 - val_accuracy: 0.9320 - 660ms/epoch - 4ms/step\n",
            "Epoch 21/30\n",
            "188/188 - 1s - loss: 0.2281 - accuracy: 0.9370 - val_loss: 0.2617 - val_accuracy: 0.9306 - 602ms/epoch - 3ms/step\n",
            "Epoch 22/30\n",
            "188/188 - 1s - loss: 0.2279 - accuracy: 0.9375 - val_loss: 0.2618 - val_accuracy: 0.9323 - 590ms/epoch - 3ms/step\n",
            "Epoch 23/30\n",
            "188/188 - 1s - loss: 0.2274 - accuracy: 0.9370 - val_loss: 0.2624 - val_accuracy: 0.9307 - 598ms/epoch - 3ms/step\n",
            "Epoch 24/30\n",
            "188/188 - 1s - loss: 0.2272 - accuracy: 0.9373 - val_loss: 0.2632 - val_accuracy: 0.9312 - 590ms/epoch - 3ms/step\n",
            "Epoch 25/30\n",
            "188/188 - 1s - loss: 0.2269 - accuracy: 0.9368 - val_loss: 0.2622 - val_accuracy: 0.9309 - 726ms/epoch - 4ms/step\n",
            "Epoch 26/30\n",
            "188/188 - 1s - loss: 0.2264 - accuracy: 0.9376 - val_loss: 0.2626 - val_accuracy: 0.9313 - 938ms/epoch - 5ms/step\n",
            "Epoch 27/30\n",
            "188/188 - 1s - loss: 0.2266 - accuracy: 0.9368 - val_loss: 0.2623 - val_accuracy: 0.9320 - 893ms/epoch - 5ms/step\n",
            "Epoch 28/30\n",
            "188/188 - 1s - loss: 0.2263 - accuracy: 0.9373 - val_loss: 0.2630 - val_accuracy: 0.9306 - 646ms/epoch - 3ms/step\n",
            "Epoch 29/30\n",
            "188/188 - 1s - loss: 0.2260 - accuracy: 0.9383 - val_loss: 0.2637 - val_accuracy: 0.9309 - 648ms/epoch - 3ms/step\n",
            "Epoch 30/30\n",
            "188/188 - 1s - loss: 0.2262 - accuracy: 0.9374 - val_loss: 0.2635 - val_accuracy: 0.9312 - 620ms/epoch - 3ms/step\n"
          ]
        }
      ]
    },
    {
      "cell_type": "code",
      "source": [
        "plt.xlabel(\"Épocas'\")\n",
        "plt.ylabel(\"Loss\")\n",
        "plt.plot(history.history['loss'], label=\"Treino\")\n",
        "plt.plot(history.history['val_loss'], label=\"Val\")\n",
        "plt.legend()\n",
        "plt.show()"
      ],
      "metadata": {
        "colab": {
          "base_uri": "https://localhost:8080/",
          "height": 452
        },
        "id": "j_BCeTx65lSF",
        "outputId": "375d41dd-24c7-4b03-b259-2f13830e15e8"
      },
      "execution_count": null,
      "outputs": [
        {
          "output_type": "display_data",
          "data": {
            "text/plain": [
              "<Figure size 640x480 with 1 Axes>"
            ],
            "image/png": "[encoded data removed]"
          },
          "metadata": {}
        }
      ]
    },
    {
      "cell_type": "code",
      "source": [
        "# Avaliação do modelo treinado no conjunto de teste\n",
        "print(\"Avaliação do modelo (Teste)\")\n",
        "results15 = modelo15.evaluate(x_test, y_test, batch_size=1000)\n",
        "print(\"Test loss, Test acc:\", results15)"
      ],
      "metadata": {
        "colab": {
          "base_uri": "https://localhost:8080/"
        },
        "id": "ELVQtyy85lVR",
        "outputId": "61ab135c-f702-4c07-b304-074d94428e45"
      },
      "execution_count": null,
      "outputs": [
        {
          "output_type": "stream",
          "name": "stdout",
          "text": [
            "Avaliação do modelo (Teste)\n",
            "10/10 [==============================] - 0s 3ms/step - loss: 6.6574 - accuracy: 0.0983\n",
            "Test loss, Test acc: [6.657390594482422, 0.09830000251531601]\n"
          ]
        }
      ]
    },
    {
      "cell_type": "code",
      "source": [
        "activation_l.append('softsign')\n",
        "test_loss_l.append(results15[0])\n",
        "test_acc_l.append(results15[1])"
      ],
      "metadata": {
        "id": "XfiiWa8xS4je"
      },
      "execution_count": null,
      "outputs": []
    },
    {
      "cell_type": "markdown",
      "metadata": {
        "id": "SJJWsYyWzUnB"
      },
      "source": [
        "## 3.6\\. - MLP - 'tanh' activation"
      ]
    },
    {
      "cell_type": "code",
      "source": [
        "modelo16 = keras.Sequential()\n",
        "modelo16.add(keras.layers.Flatten(input_shape=input_shape))\n",
        "modelo16.add(keras.layers.Dense(units=10, activation=\"tanh\"))\n",
        "\n",
        "modelo16.compile(loss=\"categorical_crossentropy\", optimizer=\"adam\", metrics=[\"accuracy\"])\n",
        "history = modelo13.fit(x_train, y_train, batch_size=256, epochs=30, validation_split=0.2, verbose=2)"
      ],
      "metadata": {
        "colab": {
          "base_uri": "https://localhost:8080/"
        },
        "id": "nSce4jOB5lYx",
        "outputId": "ac74dfff-6380-4045-94fb-8e45b0159306"
      },
      "execution_count": null,
      "outputs": [
        {
          "output_type": "stream",
          "name": "stdout",
          "text": [
            "Epoch 1/30\n",
            "188/188 - 1s - loss: 0.2212 - accuracy: 0.9390 - val_loss: 0.2675 - val_accuracy: 0.9305 - 642ms/epoch - 3ms/step\n",
            "Epoch 2/30\n",
            "188/188 - 1s - loss: 0.2214 - accuracy: 0.9384 - val_loss: 0.2683 - val_accuracy: 0.9312 - 588ms/epoch - 3ms/step\n",
            "Epoch 3/30\n",
            "188/188 - 1s - loss: 0.2211 - accuracy: 0.9386 - val_loss: 0.2662 - val_accuracy: 0.9312 - 562ms/epoch - 3ms/step\n",
            "Epoch 4/30\n",
            "188/188 - 1s - loss: 0.2208 - accuracy: 0.9392 - val_loss: 0.2672 - val_accuracy: 0.9304 - 636ms/epoch - 3ms/step\n",
            "Epoch 5/30\n",
            "188/188 - 1s - loss: 0.2211 - accuracy: 0.9388 - val_loss: 0.2679 - val_accuracy: 0.9303 - 613ms/epoch - 3ms/step\n",
            "Epoch 6/30\n",
            "188/188 - 1s - loss: 0.2205 - accuracy: 0.9390 - val_loss: 0.2676 - val_accuracy: 0.9297 - 912ms/epoch - 5ms/step\n",
            "Epoch 7/30\n",
            "188/188 - 1s - loss: 0.2207 - accuracy: 0.9392 - val_loss: 0.2681 - val_accuracy: 0.9308 - 847ms/epoch - 5ms/step\n",
            "Epoch 8/30\n",
            "188/188 - 1s - loss: 0.2202 - accuracy: 0.9393 - val_loss: 0.2689 - val_accuracy: 0.9305 - 720ms/epoch - 4ms/step\n",
            "Epoch 9/30\n",
            "188/188 - 1s - loss: 0.2202 - accuracy: 0.9395 - val_loss: 0.2670 - val_accuracy: 0.9306 - 644ms/epoch - 3ms/step\n",
            "Epoch 10/30\n",
            "188/188 - 1s - loss: 0.2201 - accuracy: 0.9388 - val_loss: 0.2671 - val_accuracy: 0.9304 - 627ms/epoch - 3ms/step\n",
            "Epoch 11/30\n",
            "188/188 - 1s - loss: 0.2199 - accuracy: 0.9390 - val_loss: 0.2673 - val_accuracy: 0.9295 - 626ms/epoch - 3ms/step\n",
            "Epoch 12/30\n",
            "188/188 - 1s - loss: 0.2199 - accuracy: 0.9386 - val_loss: 0.2690 - val_accuracy: 0.9298 - 628ms/epoch - 3ms/step\n",
            "Epoch 13/30\n",
            "188/188 - 1s - loss: 0.2201 - accuracy: 0.9393 - val_loss: 0.2672 - val_accuracy: 0.9308 - 630ms/epoch - 3ms/step\n",
            "Epoch 14/30\n",
            "188/188 - 1s - loss: 0.2197 - accuracy: 0.9392 - val_loss: 0.2674 - val_accuracy: 0.9304 - 570ms/epoch - 3ms/step\n",
            "Epoch 15/30\n",
            "188/188 - 1s - loss: 0.2194 - accuracy: 0.9391 - val_loss: 0.2697 - val_accuracy: 0.9298 - 587ms/epoch - 3ms/step\n",
            "Epoch 16/30\n",
            "188/188 - 1s - loss: 0.2197 - accuracy: 0.9394 - val_loss: 0.2681 - val_accuracy: 0.9294 - 588ms/epoch - 3ms/step\n",
            "Epoch 17/30\n",
            "188/188 - 1s - loss: 0.2195 - accuracy: 0.9394 - val_loss: 0.2680 - val_accuracy: 0.9304 - 638ms/epoch - 3ms/step\n",
            "Epoch 18/30\n",
            "188/188 - 1s - loss: 0.2192 - accuracy: 0.9393 - val_loss: 0.2682 - val_accuracy: 0.9298 - 635ms/epoch - 3ms/step\n",
            "Epoch 19/30\n",
            "188/188 - 1s - loss: 0.2193 - accuracy: 0.9393 - val_loss: 0.2698 - val_accuracy: 0.9302 - 560ms/epoch - 3ms/step\n",
            "Epoch 20/30\n",
            "188/188 - 1s - loss: 0.2192 - accuracy: 0.9392 - val_loss: 0.2684 - val_accuracy: 0.9301 - 627ms/epoch - 3ms/step\n",
            "Epoch 21/30\n",
            "188/188 - 1s - loss: 0.2188 - accuracy: 0.9396 - val_loss: 0.2696 - val_accuracy: 0.9298 - 578ms/epoch - 3ms/step\n",
            "Epoch 22/30\n",
            "188/188 - 1s - loss: 0.2187 - accuracy: 0.9394 - val_loss: 0.2698 - val_accuracy: 0.9300 - 555ms/epoch - 3ms/step\n",
            "Epoch 23/30\n",
            "188/188 - 1s - loss: 0.2186 - accuracy: 0.9395 - val_loss: 0.2681 - val_accuracy: 0.9302 - 569ms/epoch - 3ms/step\n",
            "Epoch 24/30\n",
            "188/188 - 1s - loss: 0.2185 - accuracy: 0.9393 - val_loss: 0.2692 - val_accuracy: 0.9302 - 583ms/epoch - 3ms/step\n",
            "Epoch 25/30\n",
            "188/188 - 1s - loss: 0.2186 - accuracy: 0.9395 - val_loss: 0.2698 - val_accuracy: 0.9296 - 844ms/epoch - 4ms/step\n",
            "Epoch 26/30\n",
            "188/188 - 1s - loss: 0.2183 - accuracy: 0.9398 - val_loss: 0.2688 - val_accuracy: 0.9312 - 837ms/epoch - 4ms/step\n",
            "Epoch 27/30\n",
            "188/188 - 1s - loss: 0.2183 - accuracy: 0.9398 - val_loss: 0.2706 - val_accuracy: 0.9299 - 745ms/epoch - 4ms/step\n",
            "Epoch 28/30\n",
            "188/188 - 1s - loss: 0.2183 - accuracy: 0.9399 - val_loss: 0.2696 - val_accuracy: 0.9298 - 560ms/epoch - 3ms/step\n",
            "Epoch 29/30\n",
            "188/188 - 1s - loss: 0.2183 - accuracy: 0.9397 - val_loss: 0.2690 - val_accuracy: 0.9306 - 586ms/epoch - 3ms/step\n",
            "Epoch 30/30\n",
            "188/188 - 1s - loss: 0.2181 - accuracy: 0.9396 - val_loss: 0.2699 - val_accuracy: 0.9298 - 635ms/epoch - 3ms/step\n"
          ]
        }
      ]
    },
    {
      "cell_type": "code",
      "source": [
        "plt.xlabel(\"Épocas'\")\n",
        "plt.ylabel(\"Loss\")\n",
        "plt.plot(history.history['loss'], label=\"Treino\")\n",
        "plt.plot(history.history['val_loss'], label=\"Val\")\n",
        "plt.legend()\n",
        "plt.show()"
      ],
      "metadata": {
        "colab": {
          "base_uri": "https://localhost:8080/",
          "height": 451
        },
        "id": "MAct5Va96k-Z",
        "outputId": "48e8249e-bef0-4f85-aa85-ba2c0b033f91"
      },
      "execution_count": null,
      "outputs": [
        {
          "output_type": "display_data",
          "data": {
            "text/plain": [
              "<Figure size 640x480 with 1 Axes>"
            ],
            "image/png": "[encoded data removed]"
          },
          "metadata": {}
        }
      ]
    },
    {
      "cell_type": "code",
      "source": [
        "# Avaliação do modelo treinado no conjunto de teste\n",
        "print(\"Avaliação do modelo (Teste)\")\n",
        "results16 = modelo16.evaluate(x_test, y_test, batch_size=1000)\n",
        "print(\"Test loss, Test acc:\", results16)"
      ],
      "metadata": {
        "colab": {
          "base_uri": "https://localhost:8080/"
        },
        "id": "5W10tkNT6lHX",
        "outputId": "37f516a2-3d09-4b91-fa29-5d69d7f5c25f"
      },
      "execution_count": null,
      "outputs": [
        {
          "output_type": "stream",
          "name": "stdout",
          "text": [
            "Avaliação do modelo (Teste)\n",
            "10/10 [==============================] - 0s 4ms/step - loss: 6.2998 - accuracy: 0.1151\n",
            "Test loss, Test acc: [6.299829006195068, 0.11509999632835388]\n"
          ]
        }
      ]
    },
    {
      "cell_type": "code",
      "source": [
        "activation_l.append('tanh')\n",
        "test_loss_l.append(results16[0])\n",
        "test_acc_l.append(results16[1])"
      ],
      "metadata": {
        "id": "bWaa_arxS_Xb"
      },
      "execution_count": null,
      "outputs": []
    },
    {
      "cell_type": "markdown",
      "source": [
        "# 4\\. Summary - Activation Function x test_loss and test_accuraty"
      ],
      "metadata": {
        "id": "8JlkxRIdYWwS"
      }
    },
    {
      "cell_type": "code",
      "source": [
        "results1_df"
      ],
      "metadata": {
        "colab": {
          "base_uri": "https://localhost:8080/",
          "height": 269
        },
        "id": "PqWGd3sLWe21",
        "outputId": "3ae5a8d2-a8b5-4fb6-f70d-c939bc636309"
      },
      "execution_count": null,
      "outputs": [
        {
          "output_type": "execute_result",
          "data": {
            "text/plain": [
              "  activation  test_loss  test_acc\n",
              "0    softmax   0.263733    0.9273\n",
              "1       tanh   6.292787    0.1255\n",
              "2   softsign   6.657391    0.0983\n",
              "3       relu        NaN    0.0950\n",
              "4    sigmoid   0.264697    0.9258\n",
              "5   softplus   0.263896    0.9271\n",
              "6       tanh   6.299829    0.1151"
            ],
            "text/html": [
              "\n",
              "  <div id=\"df-5f423fb0-9bb4-4753-9d0e-3d2216f1ab1b\">\n",
              "    <div class=\"colab-df-container\">\n",
              "      <div>\n",
              "<style scoped>\n",
              "    .dataframe tbody tr th:only-of-type {\n",
              "        vertical-align: middle;\n",
              "    }\n",
              "\n",
              "    .dataframe tbody tr th {\n",
              "        vertical-align: top;\n",
              "    }\n",
              "\n",
              "    .dataframe thead th {\n",
              "        text-align: right;\n",
              "    }\n",
              "</style>\n",
              "<table border=\"1\" class=\"dataframe\">\n",
              "  <thead>\n",
              "    <tr style=\"text-align: right;\">\n",
              "      <th></th>\n",
              "      <th>activation</th>\n",
              "      <th>test_loss</th>\n",
              "      <th>test_acc</th>\n",
              "    </tr>\n",
              "  </thead>\n",
              "  <tbody>\n",
              "    <tr>\n",
              "      <th>0</th>\n",
              "      <td>softmax</td>\n",
              "      <td>0.263733</td>\n",
              "      <td>0.9273</td>\n",
              "    </tr>\n",
              "    <tr>\n",
              "      <th>1</th>\n",
              "      <td>tanh</td>\n",
              "      <td>6.292787</td>\n",
              "      <td>0.1255</td>\n",
              "    </tr>\n",
              "    <tr>\n",
              "      <th>2</th>\n",
              "      <td>softsign</td>\n",
              "      <td>6.657391</td>\n",
              "      <td>0.0983</td>\n",
              "    </tr>\n",
              "    <tr>\n",
              "      <th>3</th>\n",
              "      <td>relu</td>\n",
              "      <td>NaN</td>\n",
              "      <td>0.0950</td>\n",
              "    </tr>\n",
              "    <tr>\n",
              "      <th>4</th>\n",
              "      <td>sigmoid</td>\n",
              "      <td>0.264697</td>\n",
              "      <td>0.9258</td>\n",
              "    </tr>\n",
              "    <tr>\n",
              "      <th>5</th>\n",
              "      <td>softplus</td>\n",
              "      <td>0.263896</td>\n",
              "      <td>0.9271</td>\n",
              "    </tr>\n",
              "    <tr>\n",
              "      <th>6</th>\n",
              "      <td>tanh</td>\n",
              "      <td>6.299829</td>\n",
              "      <td>0.1151</td>\n",
              "    </tr>\n",
              "  </tbody>\n",
              "</table>\n",
              "</div>\n",
              "      <button class=\"colab-df-convert\" onclick=\"convertToInteractive('df-5f423fb0-9bb4-4753-9d0e-3d2216f1ab1b')\"\n",
              "              title=\"Convert this dataframe to an interactive table.\"\n",
              "              style=\"display:none;\">\n",
              "        \n",
              "  <svg xmlns=\"http://www.w3.org/2000/svg\" height=\"24px\"viewBox=\"0 0 24 24\"\n",
              "       width=\"24px\">\n",
              "    <path d=\"M0 0h24v24H0V0z\" fill=\"none\"/>\n",
              "    <path d=\"M18.56 5.44l.94 2.06.94-2.06 2.06-.94-2.06-.94-.94-2.06-.94 2.06-2.06.94zm-11 1L8.5 8.5l.94-2.06 2.06-.94-2.06-.94L8.5 2.5l-.94 2.06-2.06.94zm10 10l.94 2.06.94-2.06 2.06-.94-2.06-.94-.94-2.06-.94 2.06-2.06.94z\"/><path d=\"M17.41 7.96l-1.37-1.37c-.4-.4-.92-.59-1.43-.59-.52 0-1.04.2-1.43.59L10.3 9.45l-7.72 7.72c-.78.78-.78 2.05 0 2.83L4 21.41c.39.39.9.59 1.41.59.51 0 1.02-.2 1.41-.59l7.78-7.78 2.81-2.81c.8-.78.8-2.07 0-2.86zM5.41 20L4 18.59l7.72-7.72 1.47 1.35L5.41 20z\"/>\n",
              "  </svg>\n",
              "      </button>\n",
              "      \n",
              "  <style>\n",
              "    .colab-df-container {\n",
              "      display:flex;\n",
              "      flex-wrap:wrap;\n",
              "      gap: 12px;\n",
              "    }\n",
              "\n",
              "    .colab-df-convert {\n",
              "      background-color: #E8F0FE;\n",
              "      border: none;\n",
              "      border-radius: 50%;\n",
              "      cursor: pointer;\n",
              "      display: none;\n",
              "      fill: #1967D2;\n",
              "      height: 32px;\n",
              "      padding: 0 0 0 0;\n",
              "      width: 32px;\n",
              "    }\n",
              "\n",
              "    .colab-df-convert:hover {\n",
              "      background-color: #E2EBFA;\n",
              "      box-shadow: 0px 1px 2px rgba(60, 64, 67, 0.3), 0px 1px 3px 1px rgba(60, 64, 67, 0.15);\n",
              "      fill: #174EA6;\n",
              "    }\n",
              "\n",
              "    [theme=dark] .colab-df-convert {\n",
              "      background-color: #3B4455;\n",
              "      fill: #D2E3FC;\n",
              "    }\n",
              "\n",
              "    [theme=dark] .colab-df-convert:hover {\n",
              "      background-color: #434B5C;\n",
              "      box-shadow: 0px 1px 3px 1px rgba(0, 0, 0, 0.15);\n",
              "      filter: drop-shadow(0px 1px 2px rgba(0, 0, 0, 0.3));\n",
              "      fill: #FFFFFF;\n",
              "    }\n",
              "  </style>\n",
              "\n",
              "      <script>\n",
              "        const buttonEl =\n",
              "          document.querySelector('#df-5f423fb0-9bb4-4753-9d0e-3d2216f1ab1b button.colab-df-convert');\n",
              "        buttonEl.style.display =\n",
              "          google.colab.kernel.accessAllowed ? 'block' : 'none';\n",
              "\n",
              "        async function convertToInteractive(key) {\n",
              "          const element = document.querySelector('#df-5f423fb0-9bb4-4753-9d0e-3d2216f1ab1b');\n",
              "          const dataTable =\n",
              "            await google.colab.kernel.invokeFunction('convertToInteractive',\n",
              "                                                     [key], {});\n",
              "          if (!dataTable) return;\n",
              "\n",
              "          const docLinkHtml = 'Like what you see? Visit the ' +\n",
              "            '<a target=\"_blank\" href=https://colab.research.google.com/notebooks/data_table.ipynb>data table notebook</a>'\n",
              "            + ' to learn more about interactive tables.';\n",
              "          element.innerHTML = '';\n",
              "          dataTable['output_type'] = 'display_data';\n",
              "          await google.colab.output.renderOutput(dataTable, element);\n",
              "          const docLink = document.createElement('div');\n",
              "          docLink.innerHTML = docLinkHtml;\n",
              "          element.appendChild(docLink);\n",
              "        }\n",
              "      </script>\n",
              "    </div>\n",
              "  </div>\n",
              "  "
            ]
          },
          "metadata": {},
          "execution_count": 178
        }
      ]
    }
  ],
  "metadata": {
    "accelerator": "GPU",
    "colab": {
      "provenance": [],
      "toc_visible": true,
      "include_colab_link": true
    },
    "gpuClass": "standard",
    "kernelspec": {
      "display_name": "Python 3",
      "name": "python3"
    },
    "language_info": {
      "name": "python"
    }
  },
  "nbformat": 4,
  "nbformat_minor": 0
}